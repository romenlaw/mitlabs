{
  "cells": [
    {
      "cell_type": "markdown",
      "metadata": {
        "id": "view-in-github",
        "colab_type": "text"
      },
      "source": [
        "<a href=\"https://colab.research.google.com/github/romenlaw/mitlabs/blob/main/xtra_labs/rl_pong/RL.ipynb\" target=\"_parent\"><img src=\"https://colab.research.google.com/assets/colab-badge.svg\" alt=\"Open In Colab\"/></a>"
      ]
    },
    {
      "cell_type": "markdown",
      "metadata": {
        "id": "jrI6q7RmWQam"
      },
      "source": [
        "<table align=\"center\">\n",
        "  <td align=\"center\"><a target=\"_blank\" href=\"http://introtodeeplearning.com\">\n",
        "        <img src=\"https://i.ibb.co/Jr88sn2/mit.png\" style=\"padding-bottom:5px;\" />\n",
        "      Visit MIT Deep Learning</a></td>\n",
        "  <td align=\"center\"><a target=\"_blank\" href=\"https://colab.research.google.com/github/aamini/introtodeeplearning/blob/master/lab3/RL.ipynb\">\n",
        "        <img src=\"https://i.ibb.co/2P3SLwK/colab.png\"  style=\"padding-bottom:5px;\" />Run in Google Colab</a></td>\n",
        "  <td align=\"center\"><a target=\"_blank\" href=\"https://github.com/aamini/introtodeeplearning/blob/master/lab3/RL.ipynb\">\n",
        "        <img src=\"https://i.ibb.co/xfJbPmL/github.png\"  height=\"70px\" style=\"padding-bottom:5px;\"  />View Source on GitHub</a></td>\n",
        "</table>\n",
        "\n",
        "# Copyright Information"
      ]
    },
    {
      "cell_type": "code",
      "execution_count": 1,
      "metadata": {
        "id": "wkd375upWYok"
      },
      "outputs": [],
      "source": [
        "# Copyright 2022 MIT 6.S191 Introduction to Deep Learning. All Rights Reserved.\n",
        "#\n",
        "# Licensed under the MIT License. You may not use this file except in compliance\n",
        "# with the License. Use and/or modification of this code outside of 6.S191 must\n",
        "# reference:\n",
        "#\n",
        "# © MIT 6.S191: Introduction to Deep Learning\n",
        "# http://introtodeeplearning.com\n",
        "#"
      ]
    },
    {
      "cell_type": "markdown",
      "metadata": {
        "id": "WoXYKhfZMHiw"
      },
      "source": [
        "# Laboratory 3: Reinforcement Learning\n",
        "\n",
        "Reinforcement learning (RL) is a subset of machine learning which poses learning problems as interactions between agents and environments. It often assumes agents have no prior knowledge of a world, so they must learn to navigate environments by optimizing a reward function. Within an environment, an agent can take certain actions and receive feedback, in the form of positive or negative rewards, with respect to their decision. As such, an agent's feedback loop is somewhat akin to the idea of \"trial and error\", or the manner in which a child might learn to distinguish between \"good\" and \"bad\" actions.\n",
        "\n",
        "In practical terms, our RL agent will interact with the environment by taking an action at each timestep, receiving a corresponding reward, and updating its state according to what it has \"learned\".  \n",
        "\n",
        "![alt text](https://www.kdnuggets.com/images/reinforcement-learning-fig1-700.jpg)\n",
        "\n",
        "While the ultimate goal of reinforcement learning is to teach agents to act in the real, physical world, simulated environments -- like games and simulation engines -- provide a convenient proving ground for developing RL algorithms and agents.\n",
        "\n",
        "In previous labs, we have explored both supervised (with LSTMs, CNNs) and unsupervised / semi-supervised (with VAEs) learning tasks. Reinforcement learning is fundamentally different, in that we are training a deep learning algorithm to govern the actions of our RL agent, that is trying, within its environment, to find the optimal way to achieve a goal. The goal of training an RL agent is to determine the best next step to take to earn the greatest final payoff or return. In this lab, we focus on building a reinforcement learning algorithm to master two different environments with varying complexity.\n",
        "\n",
        "1.   **Cartpole**:   Balance a pole, protruding from a cart, in an upright position by only moving the base left or right. Environment with a low-dimensional observation space.\n",
        "2.   [**Driving in VISTA**](https://www.mit.edu/~amini/pubs/pdf/learning-in-simulation-vista.pdf): Learn a driving control policy for an autonomous vehicle, end-to-end from raw pixel inputs and entirely in the data-driven simulation environment of VISTA. Environment with a high-dimensional observation space -- learning directly from raw pixels.\n",
        "\n",
        "Let's get started! First we'll import TensorFlow, the course package, and some dependencies.\n"
      ]
    },
    {
      "cell_type": "code",
      "source": [
        "import warnings\n",
        "# Ignore all DeprecationWarning\n",
        "warnings.filterwarnings('ignore', category=DeprecationWarning)"
      ],
      "metadata": {
        "id": "e9tTewTxIGam"
      },
      "execution_count": 2,
      "outputs": []
    },
    {
      "cell_type": "code",
      "execution_count": 3,
      "metadata": {
        "id": "KR9QHuleJ9Bh",
        "colab": {
          "base_uri": "https://localhost:8080/"
        },
        "outputId": "ccdb4607-0753-445e-9ea3-adfac79ee956"
      },
      "outputs": [
        {
          "output_type": "stream",
          "name": "stdout",
          "text": [
            "Colab only includes TensorFlow 2.x; %tensorflow_version has no effect.\n",
            "Installing MIT deep learning package... Done\n"
          ]
        }
      ],
      "source": [
        "# Import Tensorflow 2.0\n",
        "%tensorflow_version 2.x\n",
        "import tensorflow as tf\n",
        "\n",
        "gpus = tf.config.experimental.list_physical_devices('GPU')\n",
        "if gpus:\n",
        "    for gpu in gpus:\n",
        "        tf.config.experimental.set_memory_growth(gpu, True)\n",
        "\n",
        "# Download and import the MIT 6.S191 package\n",
        "!printf \"Installing MIT deep learning package... \"\n",
        "!pip install --upgrade git+https://github.com/aamini/introtodeeplearning.git &> /dev/null\n",
        "!echo \"Done\""
      ]
    },
    {
      "cell_type": "code",
      "execution_count": 4,
      "metadata": {
        "id": "EvdePP-VyVWp",
        "colab": {
          "base_uri": "https://localhost:8080/"
        },
        "outputId": "4ac9b76b-7809-47ae-ae03-0d90e6de83ca"
      },
      "outputs": [
        {
          "output_type": "stream",
          "name": "stderr",
          "text": [
            "/usr/local/lib/python3.10/dist-packages/tensorflow_probability/python/__init__.py:57: DeprecationWarning: distutils Version classes are deprecated. Use packaging.version instead.\n",
            "  if (distutils.version.LooseVersion(tf.__version__) <\n"
          ]
        }
      ],
      "source": [
        "#Install some dependencies for visualizing the agents\n",
        "!apt-get install -y xvfb python-opengl x11-utils &> /dev/null\n",
        "!pip install gym pyvirtualdisplay scikit-video ffio pyrender &> /dev/null\n",
        "# tensorflow_probability is already pre-installed on colab\n",
        "#!pip install --upgrade tensorflow_probability &> /dev/null\n",
        "\n",
        "import os\n",
        "os.environ['PYOPENGL_PLATFORM'] = 'egl'\n",
        "\n",
        "import numpy as np\n",
        "import matplotlib, cv2\n",
        "import matplotlib.pyplot as plt\n",
        "import base64, io, os, time, gym\n",
        "import IPython, functools\n",
        "import time\n",
        "from tqdm import tqdm\n",
        "import tensorflow_probability as tfp\n",
        "\n",
        "import mitdeeplearning as mdl"
      ]
    },
    {
      "cell_type": "markdown",
      "metadata": {
        "id": "zmrHSiXKTXTY"
      },
      "source": [
        "Before we dive in, let's take a step back and outline our approach, which is generally applicable to reinforcement learning problems in general:\n",
        "\n",
        "1. **Initialize our environment and our agent**: here we will describe the different observations and actions the agent can make in the environemnt.\n",
        "2. **Define our agent's memory**: this will enable the agent to remember its past actions, observations, and rewards.\n",
        "3. **Define a reward function**: describes the reward associated with an action or sequence of actions.\n",
        "4. **Define the learning algorithm**: this will be used to reinforce the agent's good behaviors and discourage bad behaviors.\n"
      ]
    },
    {
      "cell_type": "markdown",
      "metadata": {
        "id": "UT7YL8KBJIIc"
      },
      "source": [
        "# Part 1: Cartpole\n",
        "\n",
        "## 3.1 Define the Cartpole environment and agent\n",
        "\n",
        "### Environment\n",
        "\n",
        "In order to model the environment for the Cartpole task, we'll be using a toolkit developed by OpenAI called [OpenAI Gym](https://gym.openai.com/), which is replaced by [Gymnasium](https://gymnasium.farama.org/index.html). It provides several pre-defined environments for training and testing reinforcement learning agents, including those for classic physics control tasks, Atari video games, and robotic simulations. To access the Cartpole environment, we can use `env = gym.make(\"CartPole-v0\")`, which we gained access to when we imported the `gym` package. We can instantiate different [environments](https://gym.openai.com/envs/#classic_control) by passing the enivronment name to the `make` function.\n",
        "\n",
        "One issue we might experience when developing RL algorithms is that many aspects of the learning process are inherently random: initializing game states, changes in the environment, and the agent's actions. As such, it can be helpful to set a initial \"seed\" for the environment to ensure some level of reproducibility. Much like you might use `numpy.random.seed`, we can call the comparable function in gym, `seed`, with our defined environment to ensure the environment's random variables are initialized the same each time."
      ]
    },
    {
      "cell_type": "code",
      "execution_count": 5,
      "metadata": {
        "id": "quv9SC0iIYFm",
        "colab": {
          "base_uri": "https://localhost:8080/"
        },
        "outputId": "4e107a68-ecc6-4850-9286-912df98e5983"
      },
      "outputs": [
        {
          "output_type": "stream",
          "name": "stderr",
          "text": [
            "/usr/local/lib/python3.10/dist-packages/ipykernel/ipkernel.py:283: DeprecationWarning: `should_run_async` will not call `transform_cell` automatically in the future. Please pass the result to `transformed_cell` argument and any exception that happen during thetransform in `preprocessing_exc_tuple` in IPython 7.17 and above.\n",
            "  and should_run_async(code)\n",
            "/usr/local/lib/python3.10/dist-packages/gym/core.py:317: DeprecationWarning: \u001b[33mWARN: Initializing wrapper in old step API which returns one bool instead of two. It is recommended to set `new_step_api=True` to use new step API. This will be the default behaviour in future.\u001b[0m\n",
            "  deprecation(\n",
            "/usr/local/lib/python3.10/dist-packages/gym/wrappers/step_api_compatibility.py:39: DeprecationWarning: \u001b[33mWARN: Initializing environment in old step API which returns one bool instead of two. It is recommended to set `new_step_api=True` to use new step API. This will be the default behaviour in future.\u001b[0m\n",
            "  deprecation(\n",
            "/usr/local/lib/python3.10/dist-packages/gym/core.py:256: DeprecationWarning: \u001b[33mWARN: Function `env.seed(seed)` is marked as deprecated and will be removed in the future. Please use `env.reset(seed=seed)` instead.\u001b[0m\n",
            "  deprecation(\n"
          ]
        },
        {
          "output_type": "execute_result",
          "data": {
            "text/plain": [
              "[1]"
            ]
          },
          "metadata": {},
          "execution_count": 5
        }
      ],
      "source": [
        "### Instantiate the Cartpole environment ###\n",
        "\n",
        "env = gym.make(\"CartPole-v1\")\n",
        "env.seed(1)"
      ]
    },
    {
      "cell_type": "markdown",
      "metadata": {
        "id": "mhEITUcKK455"
      },
      "source": [
        "In [Cartpole](https://gymnasium.farama.org/environments/classic_control/cart_pole/), a pole is attached by an un-actuated joint to a cart, which moves along a frictionless track. The pole starts upright, and the goal is to prevent it from falling over. The system is controlled by applying a force of +1 or -1 to the cart. A reward of +1 is provided for every timestep that the pole remains upright. The episode ends when the pole is more than 15 degrees from vertical, or the cart moves more than 2.4 units from the center of the track. A visual summary of the cartpole environment is depicted below:\n",
        "\n",
        "<img width=\"400px\" src=\"https://danielpiedrahita.files.wordpress.com/2017/02/cart-pole.png\"></img>\n",
        "\n",
        "Given this setup for the environment and the objective of the game, we can think about: 1) what observations help define the environment's state; 2) what actions the agent can take.\n",
        "\n",
        "First, let's consider the observation space. In this Cartpole environment our observations are:\n",
        "\n",
        "1. Cart position\n",
        "2. Cart velocity\n",
        "3. Pole angle\n",
        "4. Pole rotation rate\n",
        "\n",
        "We can confirm the size of the space by querying the environment's observation space:\n"
      ]
    },
    {
      "cell_type": "code",
      "execution_count": 6,
      "metadata": {
        "id": "UVJaEcbdIX82",
        "colab": {
          "base_uri": "https://localhost:8080/"
        },
        "outputId": "2f5ac2a2-43c5-4b70-83d3-1fb2587ce612"
      },
      "outputs": [
        {
          "output_type": "stream",
          "name": "stdout",
          "text": [
            "Environment has observation space = Box([-4.8000002e+00 -3.4028235e+38 -4.1887903e-01 -3.4028235e+38], [4.8000002e+00 3.4028235e+38 4.1887903e-01 3.4028235e+38], (4,), float32)\n",
            "Observation                    Min      Max\n",
            "-------------------------------------------\n",
            "Car Position                 -4.80     4.80\n",
            "Car Velocity                  -inf      inf\n",
            "Pole Angle (rad)             -0.42     0.42\n",
            "Pole Angular Velocity         -inf      inf\n"
          ]
        }
      ],
      "source": [
        "n_observations = env.observation_space\n",
        "print(\"Environment has observation space =\", n_observations)\n",
        "print(f\"{'Observation':<25} {'Min':>8} {'Max':>8}\")\n",
        "print(\"-------------------------------------------\")\n",
        "obs_heading=['Car Position', 'Car Velocity', 'Pole Angle (rad)', 'Pole Angular Velocity']\n",
        "for i in range(n_observations.shape[0]):\n",
        "  print(f\"{obs_heading[i]:<25} {n_observations.low[i] if n_observations.low[i]>-1e38 else -float('inf'):8.2f} {n_observations.high[i] if n_observations.high[i]<1e38 else float('inf'):8.2f}\")"
      ]
    },
    {
      "cell_type": "markdown",
      "metadata": {
        "id": "ZibGgjrALgPM"
      },
      "source": [
        "Second, we consider the action space. At every time step, the agent can move either right or left. Again we can confirm the size of the action space by querying the environment:"
      ]
    },
    {
      "cell_type": "code",
      "execution_count": 7,
      "metadata": {
        "id": "qc9SIPxBIXrm",
        "colab": {
          "base_uri": "https://localhost:8080/"
        },
        "outputId": "158d843c-6e2c-443f-e737-9623eb430b76"
      },
      "outputs": [
        {
          "output_type": "stream",
          "name": "stdout",
          "text": [
            "Number of possible actions that the agent can choose from = 2\n",
            "0=left, 1=right\n"
          ]
        }
      ],
      "source": [
        "n_actions = env.action_space.n\n",
        "print(\"Number of possible actions that the agent can choose from =\", n_actions)\n",
        "print(\"0=left, 1=right\")"
      ]
    },
    {
      "cell_type": "markdown",
      "metadata": {
        "id": "pPfHME8aRKkb"
      },
      "source": [
        "### Cartpole agent\n",
        "\n",
        "Now that we have instantiated the environment and understood the dimensionality of the observation and action spaces, we are ready to define our agent. In deep reinforcement learning, a deep neural network defines the agent. This network will take as input an observation of the environment and output the probability of taking each of the possible actions. Since Cartpole is defined by a low-dimensional observation space, a simple feed-forward neural network should work well for our agent. We will define this using the `Sequential` API.\n"
      ]
    },
    {
      "cell_type": "code",
      "execution_count": 8,
      "metadata": {
        "id": "W-o_XK4oQ4eu"
      },
      "outputs": [],
      "source": [
        "### Define the Cartpole agent ###\n",
        "\n",
        "# Defines a feed-forward neural network\n",
        "def create_cartpole_model():\n",
        "    model = tf.keras.models.Sequential([\n",
        "        # First Dense layer\n",
        "        tf.keras.layers.Dense(units=32, activation='relu'),\n",
        "\n",
        "        # TODO: Define the last Dense layer, which will provide the network's output.\n",
        "        # Think about the space the agent needs to act in!\n",
        "        # ['''TODO''' Dense layer to output action probabilities]\n",
        "        tf.keras.layers.Dense(units=n_actions)\n",
        "    ])\n",
        "    return model\n",
        "\n",
        "cartpole_model = create_cartpole_model()"
      ]
    },
    {
      "cell_type": "markdown",
      "metadata": {
        "id": "d5D5NSIYS2IW"
      },
      "source": [
        "Now that we have defined the core network architecture, we will define an *action function* that executes a forward pass through the network, given a set of observations, and samples from the output. This sampling from the output probabilities will be used to select the next action for the agent. We will also add support so that the `choose_action` function can handle either a single observation or a batch of observations.\n",
        "\n",
        "**Critically, this action function is totally general -- we will use this function for learning control algorithms for Cartpole, but it is applicable to other RL tasks, as well!**"
      ]
    },
    {
      "cell_type": "code",
      "execution_count": 9,
      "metadata": {
        "id": "E_vVZRr8Q4R_"
      },
      "outputs": [],
      "source": [
        "### Define the agent's action function ###\n",
        "\n",
        "# Function that takes observations as input, executes a forward pass through model,\n",
        "#   and outputs a sampled action.\n",
        "# Arguments:\n",
        "#   model: the network that defines our agent\n",
        "#   observation: observation(s) which is/are fed as input to the model\n",
        "#   single: flag as to whether we are handling a single observation or batch of\n",
        "#     observations, provided as an np.array\n",
        "# Returns:\n",
        "#   action: choice of agent action\n",
        "def choose_action(model, observation, single=True):\n",
        "    # add batch dimension to the observation if only a single example was provided\n",
        "    observation = np.expand_dims(observation, axis=0) if single else observation\n",
        "\n",
        "    '''TODO: feed the observations through the model to predict the log probabilities of each possible action.'''\n",
        "    logits = model.predict(observation)\n",
        "    #print(\"logits: \", logits.shape, logits)\n",
        "\n",
        "    '''TODO: Choose an action from the categorical distribution defined by the log\n",
        "       probabilities of each possible action.'''\n",
        "    # action = tf.convert_to_tensor(np.argmax(logits, axis=1), dtype=tf.int32) # logits is (batch_size, n_action)\n",
        "    action = tf.random.categorical(logits, num_samples=1)\n",
        "\n",
        "    action = action.numpy().flatten()\n",
        "\n",
        "    return action[0] if single else action"
      ]
    },
    {
      "cell_type": "markdown",
      "metadata": {
        "id": "_tR9uAWcTnkr"
      },
      "source": [
        "## 3.2 Define the agent's memory\n",
        "\n",
        "Now that we have instantiated the environment and defined the agent network architecture and action function, we are ready to move on to the next step in our RL workflow:\n",
        "1. **Initialize our environment and our agent**: here we will describe the different observations and actions the agent can make in the environemnt.\n",
        "2. **Define our agent's memory**: this will enable the agent to remember its past actions, observations, and rewards.\n",
        "3. **Define the learning algorithm**: this will be used to reinforce the agent's good behaviors and discourage bad behaviors.\n",
        "\n",
        "In reinforcement learning, training occurs alongside the agent's acting in the environment; an *episode* refers to a sequence of actions that ends in some terminal state, such as the pole falling down or the cart crashing. The agent will need to remember all of its observations and actions, such that once an episode ends, it can learn to \"reinforce\" the good actions and punish the undesirable actions via training. Our first step is to define a simple `Memory` buffer that contains the agent's observations, actions, and received rewards from a given episode. We will also add support to combine a list of `Memory` objects into a single `Memory`. This will be very useful for batching, which will help you accelerate training later on in the lab.\n",
        "\n",
        "**Once again, note the modularity of this memory buffer -- it can and will be applied to other RL tasks as well!**"
      ]
    },
    {
      "cell_type": "code",
      "execution_count": 10,
      "metadata": {
        "id": "8MM6JwXVQ4JG"
      },
      "outputs": [],
      "source": [
        "### Agent Memory ###\n",
        "\n",
        "class Memory:\n",
        "    def __init__(self):\n",
        "        self.clear()\n",
        "\n",
        "  # Resets/restarts the memory buffer\n",
        "    def clear(self):\n",
        "        self.observations = []\n",
        "        self.actions = []\n",
        "        self.rewards = []\n",
        "\n",
        "  # Add observations, actions, rewards to memory\n",
        "    def add_to_memory(self, new_observation, new_action, new_reward):\n",
        "        self.observations.append(new_observation)\n",
        "\n",
        "        '''TODO: update the list of actions with new action'''\n",
        "        self.actions.append(new_action)\n",
        "\n",
        "        '''TODO: update the list of rewards with new reward'''\n",
        "        self.rewards.append(new_reward)\n",
        "\n",
        "    def __len__(self):\n",
        "        return len(self.actions)\n",
        "\n",
        "# Instantiate a single Memory buffer\n",
        "memory = Memory()"
      ]
    },
    {
      "cell_type": "markdown",
      "metadata": {
        "id": "D4YhtPaUVj5m"
      },
      "source": [
        "## 3.3 Reward function\n",
        "\n",
        "We're almost ready to begin the learning algorithm for our agent! The next step is to compute the rewards of our agent as it acts in the environment. Since we (and the agent) is uncertain about if and when the game or task will end (i.e., when the pole will fall), it is useful to emphasize getting rewards **now** rather than later in the future -- this is the idea of discounting. This is a similar concept to discounting money in the case of interest. Recall from lecture, we use reward discount to give more preference at getting rewards now rather than later in the future. The idea of discounting rewards is similar to discounting money in the case of interest.\n",
        "\n",
        "To compute the expected cumulative reward, known as the **return**, at a given timestep in a learning episode, we sum the discounted rewards expected at that time step $t$, within a learning episode, and projecting into the future. We define the return (cumulative reward) at a time step $t$, $R_{t}$ as:\n",
        "\n",
        ">$R_{t}=\\sum_{k=0}^\\infty\\gamma^kr_{t+k}$\n",
        "\n",
        "where  $0 < \\gamma < 1$ is the discount factor and $r_{t}$ is the reward at time step $t$, and the index $k$ increments projection into the future within a single learning episode. Intuitively, you can think of this function as depreciating any rewards received at later time steps, which will force the agent prioritize getting rewards now. Since we can't extend episodes to infinity, in practice the computation will be limited to the number of timesteps in an episode -- after that the reward is assumed to be zero.\n",
        "\n",
        "Take note of the form of this sum -- we'll have to be clever about how we implement this function. Specifically, we'll need to initialize an array of zeros, with length of the number of time steps, and fill it with the real discounted reward values as we loop through the rewards from the episode, which will have been saved in the agents memory. What we ultimately care about is which actions are better relative to other actions taken in that episode -- so, we'll normalize our computed rewards, using the mean and standard deviation of the rewards across the learning episode.\n",
        "\n",
        "We will use this definition of the reward function in both parts of the lab so make sure you have it executed!\n"
      ]
    },
    {
      "cell_type": "code",
      "execution_count": 11,
      "metadata": {
        "id": "5_Q2OFYtQ32X"
      },
      "outputs": [],
      "source": [
        "### Reward function ###\n",
        "\n",
        "# Helper function that normalizes an np.array x\n",
        "def normalize(x):\n",
        "    x -= np.mean(x)\n",
        "    x /= np.std(x)\n",
        "    return x.astype(np.float32)\n",
        "\n",
        "# Compute normalized, discounted, cumulative rewards (i.e., return)\n",
        "# Arguments:\n",
        "#   rewards: reward at timesteps in episode\n",
        "#   gamma: discounting factor\n",
        "# Returns:\n",
        "#   normalized discounted reward\n",
        "def discount_rewards(rewards, gamma=0.95):\n",
        "    discounted_rewards = np.zeros_like(rewards)\n",
        "    R = 0\n",
        "    for t in reversed(range(0, len(rewards))):\n",
        "        # update the total discounted reward\n",
        "        R = R * gamma + rewards[t]\n",
        "        discounted_rewards[t] = R\n",
        "\n",
        "    return normalize(discounted_rewards)"
      ]
    },
    {
      "cell_type": "markdown",
      "metadata": {
        "id": "QzbY-mjGYcmt"
      },
      "source": [
        "## 3.4 Learning algorithm\n",
        "\n",
        "Now we can start to define the learing algorithm which will be used to reinforce good behaviors of the agent and discourage bad behaviours. In this lab, we will focus on *policy gradient* methods which aim to **maximize** the likelihood of actions that result in large rewards. Equivalently, this means that we want to **minimize** the negative likelihood of these same actions. We achieve this by simply **scaling** the probabilities by their associated rewards -- effectively amplifying the likelihood of actions that resujlt in large rewards.\n",
        "\n",
        "Since the log function is monotonically increasing, this means that minimizing **negative likelihood** is equivalent to minimizing **negative log-likelihood**.  Recall that we can easily compute the negative log-likelihood of a discrete action by evaluting its [softmax cross entropy](https://www.tensorflow.org/api_docs/python/tf/nn/sparse_softmax_cross_entropy_with_logits). Like in supervised learning, we can use stochastic gradient descent methods to achieve the desired minimization.\n",
        "\n",
        "Let's begin by defining the loss function."
      ]
    },
    {
      "cell_type": "code",
      "execution_count": 12,
      "metadata": {
        "id": "fsgZ3IDCY_Zn"
      },
      "outputs": [],
      "source": [
        "### Loss function ###\n",
        "\n",
        "# Arguments:\n",
        "#   logits: network's predictions for actions to take\n",
        "#   actions: the actions the agent took in an episode\n",
        "#   rewards: the rewards the agent received in an episode\n",
        "# Returns:\n",
        "#   loss\n",
        "def compute_loss(logits, actions, rewards):\n",
        "    '''TODO: complete the function call to compute the negative log probabilities'''\n",
        "    neg_logprob = tf.nn.sparse_softmax_cross_entropy_with_logits(\n",
        "       logits=logits, labels=actions)\n",
        "\n",
        "    '''TODO: scale the negative log probability by the rewards'''\n",
        "    loss = tf.reduce_mean(neg_logprob * rewards)\n",
        "    return loss"
      ]
    },
    {
      "cell_type": "markdown",
      "metadata": {
        "id": "Rr5vQ9fqbPpp"
      },
      "source": [
        "Now let's use the loss function to define a training step of our learning algorithm. This is a very generalizable definition which we will use"
      ]
    },
    {
      "cell_type": "code",
      "execution_count": 13,
      "metadata": {
        "id": "_50ada7nbZ7L"
      },
      "outputs": [],
      "source": [
        "### Training step (forward and backpropagation) ###\n",
        "\n",
        "def train_step(model, loss_function, optimizer, observations, actions, discounted_rewards, custom_fwd_fn=None):\n",
        "    with tf.GradientTape() as tape:\n",
        "        # Forward propagate through the agent network\n",
        "        if custom_fwd_fn is not None:\n",
        "            prediction = custom_fwd_fn(observations)\n",
        "        else:\n",
        "            prediction = model(observations)\n",
        "\n",
        "        '''TODO: call the compute_loss function to compute the loss'''\n",
        "        loss = loss_function(prediction, actions, discounted_rewards)\n",
        "\n",
        "    '''TODO: run backpropagation to minimize the loss using the tape.gradient method.\n",
        "             Unlike supervised learning, RL is *extremely* noisy, so you will benefit\n",
        "             from additionally clipping your gradients to avoid falling into\n",
        "             dangerous local minima. After computing your gradients try also clipping\n",
        "             by a global normalizer. Try different clipping values, usually clipping\n",
        "             between 0.5 and 5 provides reasonable results. '''\n",
        "    grads = tape.gradient(loss, model.trainable_variables)\n",
        "\n",
        "    grads, _ = tf.clip_by_global_norm(grads, clip_norm=2)\n",
        "    optimizer.apply_gradients(zip(grads, model.trainable_variables))"
      ]
    },
    {
      "cell_type": "markdown",
      "metadata": {
        "id": "XsjKXh6BcgjR"
      },
      "source": [
        "## 3.5 Run cartpole!\n",
        "\n",
        "Having had no prior knowledge of the environment, the agent will begin to learn how to balance the pole on the cart based only on the feedback received from the environment! Having defined how our agent can move, how it takes in new observations, and how it updates its state, we'll see how it gradually learns a policy of actions to optimize balancing the pole as long as possible. To do this, we'll track how the rewards evolve as a function of training -- how should the rewards change as training progresses?"
      ]
    },
    {
      "cell_type": "code",
      "execution_count": 14,
      "metadata": {
        "id": "-hZ7E6JOJ9Bn"
      },
      "outputs": [],
      "source": [
        "## Training parameters ##\n",
        "## Re-run this cell to restart training from scratch ##\n",
        "\n",
        "# TODO: Learning rate and optimizer\n",
        "learning_rate = 1e-3\n",
        "\n",
        "# optimizer = tf.optimizers.SGD(learning_rate=learning_rate)\n",
        "optimizer = tf.optimizers.Adam(learning_rate)\n",
        "\n",
        "# instantiate cartpole agent\n",
        "cartpole_model = create_cartpole_model()\n",
        "\n",
        "# to track our progress\n",
        "smoothed_reward = mdl.util.LossHistory(smoothing_factor=0.95)\n",
        "plotter = mdl.util.PeriodicPlotter(sec=2, xlabel='Iterations', ylabel='Rewards')"
      ]
    },
    {
      "cell_type": "code",
      "execution_count": 15,
      "metadata": {
        "id": "XmOzc2rrcn8Q",
        "scrolled": false,
        "colab": {
          "base_uri": "https://localhost:8080/",
          "height": 1000
        },
        "outputId": "37bff597-b3b1-42be-b3e6-81c5eb47bfbb"
      },
      "outputs": [
        {
          "output_type": "display_data",
          "data": {
            "text/plain": [
              "<Figure size 640x480 with 1 Axes>"
            ],
            "image/png": "[encoded data removed]"
          },
          "metadata": {}
        },
        {
          "output_type": "stream",
          "name": "stdout",
          "text": [
            "\u001b[1m1/1\u001b[0m \u001b[32m━━━━━━━━━━━━━━━━━━━━\u001b[0m\u001b[37m\u001b[0m \u001b[1m0s\u001b[0m 37ms/step\n",
            "\u001b[1m1/1\u001b[0m \u001b[32m━━━━━━━━━━━━━━━━━━━━\u001b[0m\u001b[37m\u001b[0m \u001b[1m0s\u001b[0m 34ms/step\n",
            "\u001b[1m1/1\u001b[0m \u001b[32m━━━━━━━━━━━━━━━━━━━━\u001b[0m\u001b[37m\u001b[0m \u001b[1m0s\u001b[0m 32ms/step\n",
            "\u001b[1m1/1\u001b[0m \u001b[32m━━━━━━━━━━━━━━━━━━━━\u001b[0m\u001b[37m\u001b[0m \u001b[1m0s\u001b[0m 36ms/step\n",
            "\u001b[1m1/1\u001b[0m \u001b[32m━━━━━━━━━━━━━━━━━━━━\u001b[0m\u001b[37m\u001b[0m \u001b[1m0s\u001b[0m 33ms/step\n",
            "\u001b[1m1/1\u001b[0m \u001b[32m━━━━━━━━━━━━━━━━━━━━\u001b[0m\u001b[37m\u001b[0m \u001b[1m0s\u001b[0m 31ms/step\n",
            "\u001b[1m1/1\u001b[0m \u001b[32m━━━━━━━━━━━━━━━━━━━━\u001b[0m\u001b[37m\u001b[0m \u001b[1m0s\u001b[0m 33ms/step\n",
            "\u001b[1m1/1\u001b[0m \u001b[32m━━━━━━━━━━━━━━━━━━━━\u001b[0m\u001b[37m\u001b[0m \u001b[1m0s\u001b[0m 29ms/step\n",
            "\u001b[1m1/1\u001b[0m \u001b[32m━━━━━━━━━━━━━━━━━━━━\u001b[0m\u001b[37m\u001b[0m \u001b[1m0s\u001b[0m 33ms/step\n",
            "\u001b[1m1/1\u001b[0m \u001b[32m━━━━━━━━━━━━━━━━━━━━\u001b[0m\u001b[37m\u001b[0m \u001b[1m0s\u001b[0m 35ms/step\n",
            "\u001b[1m1/1\u001b[0m \u001b[32m━━━━━━━━━━━━━━━━━━━━\u001b[0m\u001b[37m\u001b[0m \u001b[1m0s\u001b[0m 37ms/step\n",
            "\u001b[1m1/1\u001b[0m \u001b[32m━━━━━━━━━━━━━━━━━━━━\u001b[0m\u001b[37m\u001b[0m \u001b[1m0s\u001b[0m 36ms/step\n",
            "\u001b[1m1/1\u001b[0m \u001b[32m━━━━━━━━━━━━━━━━━━━━\u001b[0m\u001b[37m\u001b[0m \u001b[1m0s\u001b[0m 35ms/step\n",
            "\u001b[1m1/1\u001b[0m \u001b[32m━━━━━━━━━━━━━━━━━━━━\u001b[0m\u001b[37m\u001b[0m \u001b[1m0s\u001b[0m 54ms/step\n",
            "\u001b[1m1/1\u001b[0m \u001b[32m━━━━━━━━━━━━━━━━━━━━\u001b[0m\u001b[37m\u001b[0m \u001b[1m0s\u001b[0m 29ms/step\n",
            "\u001b[1m1/1\u001b[0m \u001b[32m━━━━━━━━━━━━━━━━━━━━\u001b[0m\u001b[37m\u001b[0m \u001b[1m0s\u001b[0m 33ms/step\n",
            "\u001b[1m1/1\u001b[0m \u001b[32m━━━━━━━━━━━━━━━━━━━━\u001b[0m\u001b[37m\u001b[0m \u001b[1m0s\u001b[0m 32ms/step\n",
            "\u001b[1m1/1\u001b[0m \u001b[32m━━━━━━━━━━━━━━━━━━━━\u001b[0m\u001b[37m\u001b[0m \u001b[1m0s\u001b[0m 29ms/step\n",
            "\u001b[1m1/1\u001b[0m \u001b[32m━━━━━━━━━━━━━━━━━━━━\u001b[0m\u001b[37m\u001b[0m \u001b[1m0s\u001b[0m 31ms/step\n",
            "\u001b[1m1/1\u001b[0m \u001b[32m━━━━━━━━━━━━━━━━━━━━\u001b[0m\u001b[37m\u001b[0m \u001b[1m0s\u001b[0m 44ms/step\n",
            "\u001b[1m1/1\u001b[0m \u001b[32m━━━━━━━━━━━━━━━━━━━━\u001b[0m\u001b[37m\u001b[0m \u001b[1m0s\u001b[0m 27ms/step\n",
            "\u001b[1m1/1\u001b[0m \u001b[32m━━━━━━━━━━━━━━━━━━━━\u001b[0m\u001b[37m\u001b[0m \u001b[1m0s\u001b[0m 35ms/step\n",
            "\u001b[1m1/1\u001b[0m \u001b[32m━━━━━━━━━━━━━━━━━━━━\u001b[0m\u001b[37m\u001b[0m \u001b[1m0s\u001b[0m 36ms/step\n",
            "\u001b[1m1/1\u001b[0m \u001b[32m━━━━━━━━━━━━━━━━━━━━\u001b[0m\u001b[37m\u001b[0m \u001b[1m0s\u001b[0m 24ms/step\n",
            "\u001b[1m1/1\u001b[0m \u001b[32m━━━━━━━━━━━━━━━━━━━━\u001b[0m\u001b[37m\u001b[0m \u001b[1m0s\u001b[0m 26ms/step\n",
            "\u001b[1m1/1\u001b[0m \u001b[32m━━━━━━━━━━━━━━━━━━━━\u001b[0m\u001b[37m\u001b[0m \u001b[1m0s\u001b[0m 24ms/step\n",
            "\u001b[1m1/1\u001b[0m \u001b[32m━━━━━━━━━━━━━━━━━━━━\u001b[0m\u001b[37m\u001b[0m \u001b[1m0s\u001b[0m 25ms/step\n",
            "\u001b[1m1/1\u001b[0m \u001b[32m━━━━━━━━━━━━━━━━━━━━\u001b[0m\u001b[37m\u001b[0m \u001b[1m0s\u001b[0m 25ms/step\n",
            "\u001b[1m1/1\u001b[0m \u001b[32m━━━━━━━━━━━━━━━━━━━━\u001b[0m\u001b[37m\u001b[0m \u001b[1m0s\u001b[0m 29ms/step\n",
            "\u001b[1m1/1\u001b[0m \u001b[32m━━━━━━━━━━━━━━━━━━━━\u001b[0m\u001b[37m\u001b[0m \u001b[1m0s\u001b[0m 29ms/step\n",
            "\u001b[1m1/1\u001b[0m \u001b[32m━━━━━━━━━━━━━━━━━━━━\u001b[0m\u001b[37m\u001b[0m \u001b[1m0s\u001b[0m 23ms/step\n",
            "\u001b[1m1/1\u001b[0m \u001b[32m━━━━━━━━━━━━━━━━━━━━\u001b[0m\u001b[37m\u001b[0m \u001b[1m0s\u001b[0m 24ms/step\n",
            "\u001b[1m1/1\u001b[0m \u001b[32m━━━━━━━━━━━━━━━━━━━━\u001b[0m\u001b[37m\u001b[0m \u001b[1m0s\u001b[0m 29ms/step\n",
            "\u001b[1m1/1\u001b[0m \u001b[32m━━━━━━━━━━━━━━━━━━━━\u001b[0m\u001b[37m\u001b[0m \u001b[1m0s\u001b[0m 27ms/step\n",
            "\u001b[1m1/1\u001b[0m \u001b[32m━━━━━━━━━━━━━━━━━━━━\u001b[0m\u001b[37m\u001b[0m \u001b[1m0s\u001b[0m 25ms/step\n",
            "\u001b[1m1/1\u001b[0m \u001b[32m━━━━━━━━━━━━━━━━━━━━\u001b[0m\u001b[37m\u001b[0m \u001b[1m0s\u001b[0m 26ms/step\n",
            "\u001b[1m1/1\u001b[0m \u001b[32m━━━━━━━━━━━━━━━━━━━━\u001b[0m\u001b[37m\u001b[0m \u001b[1m0s\u001b[0m 26ms/step\n",
            "\u001b[1m1/1\u001b[0m \u001b[32m━━━━━━━━━━━━━━━━━━━━\u001b[0m\u001b[37m\u001b[0m \u001b[1m0s\u001b[0m 26ms/step\n",
            "\u001b[1m1/1\u001b[0m \u001b[32m━━━━━━━━━━━━━━━━━━━━\u001b[0m\u001b[37m\u001b[0m \u001b[1m0s\u001b[0m 28ms/step\n",
            "\u001b[1m1/1\u001b[0m \u001b[32m━━━━━━━━━━━━━━━━━━━━\u001b[0m\u001b[37m\u001b[0m \u001b[1m0s\u001b[0m 24ms/step\n",
            "\u001b[1m1/1\u001b[0m \u001b[32m━━━━━━━━━━━━━━━━━━━━\u001b[0m\u001b[37m\u001b[0m \u001b[1m0s\u001b[0m 26ms/step\n",
            "\u001b[1m1/1\u001b[0m \u001b[32m━━━━━━━━━━━━━━━━━━━━\u001b[0m\u001b[37m\u001b[0m \u001b[1m0s\u001b[0m 29ms/step\n",
            "\u001b[1m1/1\u001b[0m \u001b[32m━━━━━━━━━━━━━━━━━━━━\u001b[0m\u001b[37m\u001b[0m \u001b[1m0s\u001b[0m 29ms/step\n",
            "\u001b[1m1/1\u001b[0m \u001b[32m━━━━━━━━━━━━━━━━━━━━\u001b[0m\u001b[37m\u001b[0m \u001b[1m0s\u001b[0m 26ms/step\n",
            "\u001b[1m1/1\u001b[0m \u001b[32m━━━━━━━━━━━━━━━━━━━━\u001b[0m\u001b[37m\u001b[0m \u001b[1m0s\u001b[0m 29ms/step\n",
            "\u001b[1m1/1\u001b[0m \u001b[32m━━━━━━━━━━━━━━━━━━━━\u001b[0m\u001b[37m\u001b[0m \u001b[1m0s\u001b[0m 27ms/step\n",
            "\u001b[1m1/1\u001b[0m \u001b[32m━━━━━━━━━━━━━━━━━━━━\u001b[0m\u001b[37m\u001b[0m \u001b[1m0s\u001b[0m 32ms/step\n",
            "\u001b[1m1/1\u001b[0m \u001b[32m━━━━━━━━━━━━━━━━━━━━\u001b[0m\u001b[37m\u001b[0m \u001b[1m0s\u001b[0m 32ms/step\n",
            "\u001b[1m1/1\u001b[0m \u001b[32m━━━━━━━━━━━━━━━━━━━━\u001b[0m\u001b[37m\u001b[0m \u001b[1m0s\u001b[0m 26ms/step\n",
            "\u001b[1m1/1\u001b[0m \u001b[32m━━━━━━━━━━━━━━━━━━━━\u001b[0m\u001b[37m\u001b[0m \u001b[1m0s\u001b[0m 26ms/step\n",
            "\u001b[1m1/1\u001b[0m \u001b[32m━━━━━━━━━━━━━━━━━━━━\u001b[0m\u001b[37m\u001b[0m \u001b[1m0s\u001b[0m 39ms/step\n",
            "\u001b[1m1/1\u001b[0m \u001b[32m━━━━━━━━━━━━━━━━━━━━\u001b[0m\u001b[37m\u001b[0m \u001b[1m0s\u001b[0m 26ms/step\n",
            "\u001b[1m1/1\u001b[0m \u001b[32m━━━━━━━━━━━━━━━━━━━━\u001b[0m\u001b[37m\u001b[0m \u001b[1m0s\u001b[0m 32ms/step\n",
            "\u001b[1m1/1\u001b[0m \u001b[32m━━━━━━━━━━━━━━━━━━━━\u001b[0m\u001b[37m\u001b[0m \u001b[1m0s\u001b[0m 32ms/step\n",
            "\u001b[1m1/1\u001b[0m \u001b[32m━━━━━━━━━━━━━━━━━━━━\u001b[0m\u001b[37m\u001b[0m \u001b[1m0s\u001b[0m 25ms/step\n",
            "\u001b[1m1/1\u001b[0m \u001b[32m━━━━━━━━━━━━━━━━━━━━\u001b[0m\u001b[37m\u001b[0m \u001b[1m0s\u001b[0m 26ms/step\n",
            "\u001b[1m1/1\u001b[0m \u001b[32m━━━━━━━━━━━━━━━━━━━━\u001b[0m\u001b[37m\u001b[0m \u001b[1m0s\u001b[0m 27ms/step\n",
            "\u001b[1m1/1\u001b[0m \u001b[32m━━━━━━━━━━━━━━━━━━━━\u001b[0m\u001b[37m\u001b[0m \u001b[1m0s\u001b[0m 26ms/step\n",
            "\u001b[1m1/1\u001b[0m \u001b[32m━━━━━━━━━━━━━━━━━━━━\u001b[0m\u001b[37m\u001b[0m \u001b[1m0s\u001b[0m 27ms/step\n",
            "\u001b[1m1/1\u001b[0m \u001b[32m━━━━━━━━━━━━━━━━━━━━\u001b[0m\u001b[37m\u001b[0m \u001b[1m0s\u001b[0m 28ms/step\n",
            "\u001b[1m1/1\u001b[0m \u001b[32m━━━━━━━━━━━━━━━━━━━━\u001b[0m\u001b[37m\u001b[0m \u001b[1m0s\u001b[0m 26ms/step\n",
            "\u001b[1m1/1\u001b[0m \u001b[32m━━━━━━━━━━━━━━━━━━━━\u001b[0m\u001b[37m\u001b[0m \u001b[1m0s\u001b[0m 25ms/step\n",
            "\u001b[1m1/1\u001b[0m \u001b[32m━━━━━━━━━━━━━━━━━━━━\u001b[0m\u001b[37m\u001b[0m \u001b[1m0s\u001b[0m 29ms/step\n",
            "\u001b[1m1/1\u001b[0m \u001b[32m━━━━━━━━━━━━━━━━━━━━\u001b[0m\u001b[37m\u001b[0m \u001b[1m0s\u001b[0m 28ms/step\n",
            "\u001b[1m1/1\u001b[0m \u001b[32m━━━━━━━━━━━━━━━━━━━━\u001b[0m\u001b[37m\u001b[0m \u001b[1m0s\u001b[0m 24ms/step\n",
            "\u001b[1m1/1\u001b[0m \u001b[32m━━━━━━━━━━━━━━━━━━━━\u001b[0m\u001b[37m\u001b[0m \u001b[1m0s\u001b[0m 26ms/step\n",
            "\u001b[1m1/1\u001b[0m \u001b[32m━━━━━━━━━━━━━━━━━━━━\u001b[0m\u001b[37m\u001b[0m \u001b[1m0s\u001b[0m 25ms/step\n",
            "\u001b[1m1/1\u001b[0m \u001b[32m━━━━━━━━━━━━━━━━━━━━\u001b[0m\u001b[37m\u001b[0m \u001b[1m0s\u001b[0m 24ms/step\n",
            "\u001b[1m1/1\u001b[0m \u001b[32m━━━━━━━━━━━━━━━━━━━━\u001b[0m\u001b[37m\u001b[0m \u001b[1m0s\u001b[0m 25ms/step\n",
            "\u001b[1m1/1\u001b[0m \u001b[32m━━━━━━━━━━━━━━━━━━━━\u001b[0m\u001b[37m\u001b[0m \u001b[1m0s\u001b[0m 26ms/step\n",
            "\u001b[1m1/1\u001b[0m \u001b[32m━━━━━━━━━━━━━━━━━━━━\u001b[0m\u001b[37m\u001b[0m \u001b[1m0s\u001b[0m 26ms/step\n",
            "\u001b[1m1/1\u001b[0m \u001b[32m━━━━━━━━━━━━━━━━━━━━\u001b[0m\u001b[37m\u001b[0m \u001b[1m0s\u001b[0m 25ms/step\n",
            "\u001b[1m1/1\u001b[0m \u001b[32m━━━━━━━━━━━━━━━━━━━━\u001b[0m\u001b[37m\u001b[0m \u001b[1m0s\u001b[0m 24ms/step\n",
            "\u001b[1m1/1\u001b[0m \u001b[32m━━━━━━━━━━━━━━━━━━━━\u001b[0m\u001b[37m\u001b[0m \u001b[1m0s\u001b[0m 33ms/step\n",
            "\u001b[1m1/1\u001b[0m \u001b[32m━━━━━━━━━━━━━━━━━━━━\u001b[0m\u001b[37m\u001b[0m \u001b[1m0s\u001b[0m 24ms/step\n",
            "\u001b[1m1/1\u001b[0m \u001b[32m━━━━━━━━━━━━━━━━━━━━\u001b[0m\u001b[37m\u001b[0m \u001b[1m0s\u001b[0m 23ms/step\n",
            "\u001b[1m1/1\u001b[0m \u001b[32m━━━━━━━━━━━━━━━━━━━━\u001b[0m\u001b[37m\u001b[0m \u001b[1m0s\u001b[0m 24ms/step\n",
            "\u001b[1m1/1\u001b[0m \u001b[32m━━━━━━━━━━━━━━━━━━━━\u001b[0m\u001b[37m\u001b[0m \u001b[1m0s\u001b[0m 28ms/step\n",
            "\u001b[1m1/1\u001b[0m \u001b[32m━━━━━━━━━━━━━━━━━━━━\u001b[0m\u001b[37m\u001b[0m \u001b[1m0s\u001b[0m 24ms/step\n",
            "\u001b[1m1/1\u001b[0m \u001b[32m━━━━━━━━━━━━━━━━━━━━\u001b[0m\u001b[37m\u001b[0m \u001b[1m0s\u001b[0m 26ms/step\n",
            "\u001b[1m1/1\u001b[0m \u001b[32m━━━━━━━━━━━━━━━━━━━━\u001b[0m\u001b[37m\u001b[0m \u001b[1m0s\u001b[0m 24ms/step\n",
            "\u001b[1m1/1\u001b[0m \u001b[32m━━━━━━━━━━━━━━━━━━━━\u001b[0m\u001b[37m\u001b[0m \u001b[1m0s\u001b[0m 26ms/step\n",
            "\u001b[1m1/1\u001b[0m \u001b[32m━━━━━━━━━━━━━━━━━━━━\u001b[0m\u001b[37m\u001b[0m \u001b[1m0s\u001b[0m 25ms/step\n",
            "\u001b[1m1/1\u001b[0m \u001b[32m━━━━━━━━━━━━━━━━━━━━\u001b[0m\u001b[37m\u001b[0m \u001b[1m0s\u001b[0m 24ms/step\n",
            "\u001b[1m1/1\u001b[0m \u001b[32m━━━━━━━━━━━━━━━━━━━━\u001b[0m\u001b[37m\u001b[0m \u001b[1m0s\u001b[0m 32ms/step\n",
            "\u001b[1m1/1\u001b[0m \u001b[32m━━━━━━━━━━━━━━━━━━━━\u001b[0m\u001b[37m\u001b[0m \u001b[1m0s\u001b[0m 26ms/step\n",
            "\u001b[1m1/1\u001b[0m \u001b[32m━━━━━━━━━━━━━━━━━━━━\u001b[0m\u001b[37m\u001b[0m \u001b[1m0s\u001b[0m 24ms/step\n",
            "\u001b[1m1/1\u001b[0m \u001b[32m━━━━━━━━━━━━━━━━━━━━\u001b[0m\u001b[37m\u001b[0m \u001b[1m0s\u001b[0m 25ms/step\n",
            "\u001b[1m1/1\u001b[0m \u001b[32m━━━━━━━━━━━━━━━━━━━━\u001b[0m\u001b[37m\u001b[0m \u001b[1m0s\u001b[0m 23ms/step\n",
            "\u001b[1m1/1\u001b[0m \u001b[32m━━━━━━━━━━━━━━━━━━━━\u001b[0m\u001b[37m\u001b[0m \u001b[1m0s\u001b[0m 23ms/step\n",
            "\u001b[1m1/1\u001b[0m \u001b[32m━━━━━━━━━━━━━━━━━━━━\u001b[0m\u001b[37m\u001b[0m \u001b[1m0s\u001b[0m 25ms/step\n",
            "\u001b[1m1/1\u001b[0m \u001b[32m━━━━━━━━━━━━━━━━━━━━\u001b[0m\u001b[37m\u001b[0m \u001b[1m0s\u001b[0m 24ms/step\n",
            "\u001b[1m1/1\u001b[0m \u001b[32m━━━━━━━━━━━━━━━━━━━━\u001b[0m\u001b[37m\u001b[0m \u001b[1m0s\u001b[0m 24ms/step\n",
            "\u001b[1m1/1\u001b[0m \u001b[32m━━━━━━━━━━━━━━━━━━━━\u001b[0m\u001b[37m\u001b[0m \u001b[1m0s\u001b[0m 47ms/step\n",
            "\u001b[1m1/1\u001b[0m \u001b[32m━━━━━━━━━━━━━━━━━━━━\u001b[0m\u001b[37m\u001b[0m \u001b[1m0s\u001b[0m 39ms/step\n",
            "\u001b[1m1/1\u001b[0m \u001b[32m━━━━━━━━━━━━━━━━━━━━\u001b[0m\u001b[37m\u001b[0m \u001b[1m0s\u001b[0m 41ms/step\n",
            "\u001b[1m1/1\u001b[0m \u001b[32m━━━━━━━━━━━━━━━━━━━━\u001b[0m\u001b[37m\u001b[0m \u001b[1m0s\u001b[0m 37ms/step\n",
            "\u001b[1m1/1\u001b[0m \u001b[32m━━━━━━━━━━━━━━━━━━━━\u001b[0m\u001b[37m\u001b[0m \u001b[1m0s\u001b[0m 36ms/step\n",
            "\u001b[1m1/1\u001b[0m \u001b[32m━━━━━━━━━━━━━━━━━━━━\u001b[0m\u001b[37m\u001b[0m \u001b[1m0s\u001b[0m 34ms/step\n",
            "\u001b[1m1/1\u001b[0m \u001b[32m━━━━━━━━━━━━━━━━━━━━\u001b[0m\u001b[37m\u001b[0m \u001b[1m0s\u001b[0m 41ms/step\n",
            "\u001b[1m1/1\u001b[0m \u001b[32m━━━━━━━━━━━━━━━━━━━━\u001b[0m\u001b[37m\u001b[0m \u001b[1m0s\u001b[0m 31ms/step\n",
            "\u001b[1m1/1\u001b[0m \u001b[32m━━━━━━━━━━━━━━━━━━━━\u001b[0m\u001b[37m\u001b[0m \u001b[1m0s\u001b[0m 32ms/step\n",
            "\u001b[1m1/1\u001b[0m \u001b[32m━━━━━━━━━━━━━━━━━━━━\u001b[0m\u001b[37m\u001b[0m \u001b[1m0s\u001b[0m 32ms/step\n",
            "\u001b[1m1/1\u001b[0m \u001b[32m━━━━━━━━━━━━━━━━━━━━\u001b[0m\u001b[37m\u001b[0m \u001b[1m0s\u001b[0m 48ms/step\n",
            "\u001b[1m1/1\u001b[0m \u001b[32m━━━━━━━━━━━━━━━━━━━━\u001b[0m\u001b[37m\u001b[0m \u001b[1m0s\u001b[0m 45ms/step\n",
            "\u001b[1m1/1\u001b[0m \u001b[32m━━━━━━━━━━━━━━━━━━━━\u001b[0m\u001b[37m\u001b[0m \u001b[1m0s\u001b[0m 52ms/step\n",
            "\u001b[1m1/1\u001b[0m \u001b[32m━━━━━━━━━━━━━━━━━━━━\u001b[0m\u001b[37m\u001b[0m \u001b[1m0s\u001b[0m 56ms/step\n",
            "\u001b[1m1/1\u001b[0m \u001b[32m━━━━━━━━━━━━━━━━━━━━\u001b[0m\u001b[37m\u001b[0m \u001b[1m0s\u001b[0m 53ms/step\n",
            "\u001b[1m1/1\u001b[0m \u001b[32m━━━━━━━━━━━━━━━━━━━━\u001b[0m\u001b[37m\u001b[0m \u001b[1m0s\u001b[0m 77ms/step\n",
            "\u001b[1m1/1\u001b[0m \u001b[32m━━━━━━━━━━━━━━━━━━━━\u001b[0m\u001b[37m\u001b[0m \u001b[1m0s\u001b[0m 46ms/step\n",
            "\u001b[1m1/1\u001b[0m \u001b[32m━━━━━━━━━━━━━━━━━━━━\u001b[0m\u001b[37m\u001b[0m \u001b[1m0s\u001b[0m 39ms/step\n",
            "\u001b[1m1/1\u001b[0m \u001b[32m━━━━━━━━━━━━━━━━━━━━\u001b[0m\u001b[37m\u001b[0m \u001b[1m0s\u001b[0m 35ms/step\n",
            "\u001b[1m1/1\u001b[0m \u001b[32m━━━━━━━━━━━━━━━━━━━━\u001b[0m\u001b[37m\u001b[0m \u001b[1m0s\u001b[0m 44ms/step\n",
            "\u001b[1m1/1\u001b[0m \u001b[32m━━━━━━━━━━━━━━━━━━━━\u001b[0m\u001b[37m\u001b[0m \u001b[1m0s\u001b[0m 43ms/step\n",
            "\u001b[1m1/1\u001b[0m \u001b[32m━━━━━━━━━━━━━━━━━━━━\u001b[0m\u001b[37m\u001b[0m \u001b[1m0s\u001b[0m 24ms/step\n"
          ]
        },
        {
          "output_type": "display_data",
          "data": {
            "text/plain": [
              "<Figure size 640x480 with 1 Axes>"
            ],
            "image/png": "[encoded data removed]"
          },
          "metadata": {}
        }
      ],
      "source": [
        "## Cartpole training! ##\n",
        "## Note: stoping and restarting this cell will pick up training where you\n",
        "#        left off. To restart training you need to rerun the cell above as\n",
        "#        well (to re-initialize the model and optimizer)\n",
        "\n",
        "if hasattr(tqdm, '_instances'): tqdm._instances.clear() # clear if it exists\n",
        "for i_episode in range(500):\n",
        "\n",
        "    plotter.plot(smoothed_reward.get())\n",
        "    # Restart the environment\n",
        "    observation = env.reset()\n",
        "    memory.clear()\n",
        "\n",
        "    while True:\n",
        "        # using our observation, choose an action and take it in the environment\n",
        "        action = choose_action(cartpole_model, observation)\n",
        "        next_observation, reward, done, info = env.step(action)\n",
        "        # add to memory\n",
        "        memory.add_to_memory(observation, action, reward)\n",
        "\n",
        "        # is the episode over? did you crash or do so well that you're done?\n",
        "        if done:\n",
        "            # determine total reward and keep a record of this\n",
        "            total_reward = sum(memory.rewards)\n",
        "            smoothed_reward.append(total_reward)\n",
        "\n",
        "            # initiate training - remember we don't know anything about how the\n",
        "            #   agent is doing until it has crashed!\n",
        "            g = train_step(cartpole_model, compute_loss, optimizer,\n",
        "                       observations=np.vstack(memory.observations),\n",
        "                       actions=np.array(memory.actions),\n",
        "                       discounted_rewards = discount_rewards(memory.rewards))\n",
        "\n",
        "            # reset the memory\n",
        "            memory.clear()\n",
        "            break\n",
        "        # update our observatons\n",
        "        observation = next_observation"
      ]
    },
    {
      "cell_type": "markdown",
      "metadata": {
        "id": "mkcUtGF1VE-K"
      },
      "source": [
        "To get a sense of how our agent did, we can save a video of the trained model working on balancing the pole. Realize that this is a brand new environment that the agent has not seen before!\n",
        "\n",
        "Let's display the saved video to watch how our agent did!\n"
      ]
    },
    {
      "cell_type": "code",
      "source": [
        "cartpole_model.save_weights(\"cartpole.weights.h5\")"
      ],
      "metadata": {
        "id": "KKZX02oXNFln"
      },
      "execution_count": 20,
      "outputs": []
    },
    {
      "cell_type": "code",
      "source": [
        "import glob\n",
        "import io\n",
        "import base64\n",
        "import imageio\n",
        "from IPython.display import HTML, display\n",
        "from gym.wrappers.monitoring.video_recorder import VideoRecorder\n",
        "\n",
        "def show_video_of_model(model, env_name):\n",
        "    env = gym.make(env_name)\n",
        "    obs = env.reset()\n",
        "    prev_obs = obs\n",
        "\n",
        "    filename = env_name + \".mp4\"\n",
        "\n",
        "    counter = 0\n",
        "    done = False\n",
        "    frames = []\n",
        "    while not done:\n",
        "        frame = env.render(mode='rgb_array')\n",
        "        frames.append(frame)\n",
        "\n",
        "        if \"CartPole\" in env_name:\n",
        "            input_obs = obs\n",
        "        elif \"Pong\" in env_name:\n",
        "            input_obs = pong_change(prev_obs, obs)\n",
        "        else:\n",
        "            raise ValueError(f\"Unknown env for saving: {env_name}\")\n",
        "\n",
        "        action = model(np.expand_dims(input_obs, 0)).numpy().argmax()\n",
        "\n",
        "        prev_obs = obs\n",
        "        obs, reward, done, info = env.step(action)\n",
        "        counter += 1\n",
        "    imageio.mimsave(filename, frames, fps=30)\n",
        "\n",
        "def show_video():\n",
        "    mp4list = glob.glob('*.mp4')\n",
        "    if len(mp4list) > 0:\n",
        "        mp4 = mp4list[0]\n",
        "        video = io.open(mp4, 'r+b').read()\n",
        "        encoded = base64.b64encode(video)\n",
        "        display(HTML(data='''<video alt=\"test\" autoplay\n",
        "                loop controls style=\"height: 400px;\">\n",
        "                <source src=\"data:video/mp4;base64,{0}\" type=\"video/mp4\" />\n",
        "             </video>'''.format(encoded.decode('ascii'))))\n",
        "    else:\n",
        "        print(\"Could not find video\")\n"
      ],
      "metadata": {
        "id": "6a8wlPO6jw4E"
      },
      "execution_count": 21,
      "outputs": []
    },
    {
      "cell_type": "code",
      "execution_count": 28,
      "metadata": {
        "id": "PAYBkv6Zbk0J",
        "scrolled": true,
        "colab": {
          "base_uri": "https://localhost:8080/",
          "height": 650
        },
        "outputId": "509c02ea-aaf6-4971-a2e2-35fe97e0d543"
      },
      "outputs": [
        {
          "output_type": "stream",
          "name": "stderr",
          "text": [
            "/usr/local/lib/python3.10/dist-packages/ipykernel/ipkernel.py:283: DeprecationWarning: `should_run_async` will not call `transform_cell` automatically in the future. Please pass the result to `transformed_cell` argument and any exception that happen during thetransform in `preprocessing_exc_tuple` in IPython 7.17 and above.\n",
            "  and should_run_async(code)\n",
            "/usr/local/lib/python3.10/dist-packages/gym/core.py:317: DeprecationWarning: \u001b[33mWARN: Initializing wrapper in old step API which returns one bool instead of two. It is recommended to set `new_step_api=True` to use new step API. This will be the default behaviour in future.\u001b[0m\n",
            "  deprecation(\n",
            "/usr/local/lib/python3.10/dist-packages/gym/wrappers/step_api_compatibility.py:39: DeprecationWarning: \u001b[33mWARN: Initializing environment in old step API which returns one bool instead of two. It is recommended to set `new_step_api=True` to use new step API. This will be the default behaviour in future.\u001b[0m\n",
            "  deprecation(\n",
            "/usr/local/lib/python3.10/dist-packages/gym/core.py:43: DeprecationWarning: \u001b[33mWARN: The argument mode in render method is deprecated; use render_mode during environment initialization instead.\n",
            "See here for more information: https://www.gymlibrary.ml/content/api/\u001b[0m\n",
            "  deprecation(\n",
            "/usr/local/lib/python3.10/dist-packages/gym/utils/passive_env_checker.py:241: DeprecationWarning: `np.bool8` is a deprecated alias for `np.bool_`.  (Deprecated NumPy 1.24)\n",
            "  if not isinstance(terminated, (bool, np.bool8)):\n",
            "WARNING:imageio_ffmpeg:IMAGEIO FFMPEG_WRITER WARNING: input image is not divisible by macro_block_size=16, resizing from (600, 400) to (608, 400) to ensure video compatibility with most codecs and players. To prevent resizing, make your input image divisible by the macro_block_size or set the macro_block_size to 1 (risking incompatibility).\n"
          ]
        },
        {
          "output_type": "display_data",
          "data": {
            "text/plain": [
              "<IPython.core.display.HTML object>"
            ],
            "text/html": [
              "<video alt=\"test\" autoplay\n",
              "                loop controls style=\"height: 400px;\">\n",
              "                <source src=\"data:video/mp4;base64,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\" type=\"video/mp4\" />\n",
              "             </video>"
            ]
          },
          "metadata": {}
        }
      ],
      "source": [
        "my_model=create_cartpole_model()\n",
        "my_model(np.expand_dims(observation, 0))\n",
        "my_model.load_weights(\"cartpole.weights.h5\")\n",
        "matplotlib.use('Agg')\n",
        "show_video_of_model(my_model, \"CartPole-v1\")\n",
        "show_video()"
      ]
    },
    {
      "cell_type": "markdown",
      "metadata": {
        "id": "CSbVNDpaVb3_"
      },
      "source": [
        "How does the agent perform? Could you train it for shorter amounts of time and still perform well? Do you think that training longer would help even more?"
      ]
    },
    {
      "cell_type": "markdown",
      "metadata": {
        "id": "Eu6Mqxc720ST"
      },
      "source": [
        "# Part 2: Training Autonomous Driving Policies in VISTA\n",
        "Autonomous control has traditionally be dominated by algorithms that explicitly decompose individual aspects of the control pipeline. For example, in autonomous driving, traditional methods work by first detecting road and lane boundaries, and then using path planning and rule-based methods to derive a control policy. Deep learning offers something very different -- the possibility of optimizing all these steps simultaneously, learning control end-to-end directly from raw sensory inputs.\n",
        "\n",
        "**You will explore the power of deep learning to learn autonomous control policies that are trained *end-to-end, directly from raw sensory data, and entirely within a simulated world*.**\n",
        "\n",
        "We will use the data-driven simulation engine [VISTA](https://ieeexplore.ieee.org/stamp/stamp.jsp?arnumber=8957584&tag=1), which uses techniques in computer vision to synthesize new photorealistic trajectories and driving viewpoints, that are still consistent with the world's appearance and fall within the envelope of a real driving scene. This is a powerful approach -- we can synthesize data that is photorealistic, grounded in the real world, and then use this data for training and testing autonomous vehicle control policies within this simulator.\n",
        "\n",
        "In this part of the lab, you will use reinforcement lerning to build a self-driving agent with a neural network-based controller trained on RGB camera data. We will train the self-driving agent for the task of lane following. Beyond this data modality and control task, VISTA also supports [different data modalities](https://arxiv.org/pdf/2111.12083.pdf) (such as LiDAR data) and [different learning tasks](https://arxiv.org/pdf/2111.12137.pdf) (such as multi-car interactions).\n",
        "<p align=\"center\">\n",
        "<img src=\"https://raw.githubusercontent.com/aamini/introtodeeplearning/master/lab3/img/vista_overview.png\" width=\"600\"/>\n",
        "</p>\n",
        "\n",
        "\n",
        "You will put your agent to the test in the VISTA environment, and potentially, on board a full-scale autonomous vehicle! Specifically, as part of the MIT lab competitions, high-performing agents -- evaluated based on the maximum distance they can travel without crashing -- will have the opportunity to be put to the ***real*** test onboard a full-scale autonomous vehicle!!!\n",
        "\n",
        "We start by installing dependencies. This includes installing the VISTA package itself."
      ]
    },
    {
      "cell_type": "code",
      "source": [
        "!pip install --upgrade git+https://github.com/vista-simulator/vista-6s191.git"
      ],
      "metadata": {
        "id": "WKWcagMpRLIB",
        "outputId": "80dc9a91-ead4-45ec-9af2-13829b29b574",
        "colab": {
          "base_uri": "https://localhost:8080/"
        }
      },
      "execution_count": 18,
      "outputs": [
        {
          "output_type": "stream",
          "name": "stdout",
          "text": [
            "Collecting git+https://github.com/vista-simulator/vista-6s191.git\n",
            "  Cloning https://github.com/vista-simulator/vista-6s191.git to /tmp/pip-req-build-l6m3fuet\n",
            "  Running command git clone --filter=blob:none --quiet https://github.com/vista-simulator/vista-6s191.git /tmp/pip-req-build-l6m3fuet\n",
            "  Resolved https://github.com/vista-simulator/vista-6s191.git to commit 9f74121ebea4800ff162836bdd684a32d4ee319f\n",
            "  Preparing metadata (setup.py) ... \u001b[?25l\u001b[?25hdone\n",
            "Building wheels for collected packages: vista\n",
            "  Building wheel for vista (setup.py) ... \u001b[?25l\u001b[?25hdone\n",
            "  Created wheel for vista: filename=vista-0.1.0-py3-none-any.whl size=71518 sha256=f9ddf00901644a1d3f33f339adadd9558cd958d99f7fd06ae2b09b9605596d39\n",
            "  Stored in directory: /tmp/pip-ephem-wheel-cache-i_feudmy/wheels/bc/54/fe/20605c5164d8532b412be26fcc2e7bf1ddefa7b452b0ceb14a\n",
            "Successfully built vista\n",
            "Installing collected packages: vista\n",
            "Successfully installed vista-0.1.0\n"
          ]
        }
      ]
    },
    {
      "cell_type": "code",
      "source": [
        "import vista\n",
        "from vista.utils import logging\n",
        "logging.setLevel(logging.ERROR)"
      ],
      "metadata": {
        "id": "ByV6c5GKTgHq",
        "outputId": "a6dcdeaa-a222-458e-f130-58f75313f80f",
        "colab": {
          "base_uri": "https://localhost:8080/",
          "height": 549
        }
      },
      "execution_count": 19,
      "outputs": [
        {
          "output_type": "stream",
          "name": "stderr",
          "text": [
            "\u001b[93m2024-09-30 04:53:48,058::WARNING::[vista.entities.sensors.EventCamera.<module>] Fail to import module for event camera. Remember to do source <some-dir>/openeb/build/utils/scripts/setup_env.shCan ignore this if not using it\u001b[0;0m\n",
            "WARNING:Vista:[vista.entities.sensors.EventCamera.<module>] Fail to import module for event camera. Remember to do source <some-dir>/openeb/build/utils/scripts/setup_env.shCan ignore this if not using it\n"
          ]
        },
        {
          "output_type": "error",
          "ename": "ModuleNotFoundError",
          "evalue": "No module named 'descartes'",
          "traceback": [
            "\u001b[0;31m---------------------------------------------------------------------------\u001b[0m",
            "\u001b[0;31mModuleNotFoundError\u001b[0m                       Traceback (most recent call last)",
            "\u001b[0;32m<ipython-input-19-3d8a9d6f956a>\u001b[0m in \u001b[0;36m<cell line: 1>\u001b[0;34m()\u001b[0m\n\u001b[0;32m----> 1\u001b[0;31m \u001b[0;32mimport\u001b[0m \u001b[0mvista\u001b[0m\u001b[0;34m\u001b[0m\u001b[0;34m\u001b[0m\u001b[0m\n\u001b[0m\u001b[1;32m      2\u001b[0m \u001b[0;32mfrom\u001b[0m \u001b[0mvista\u001b[0m\u001b[0;34m.\u001b[0m\u001b[0mutils\u001b[0m \u001b[0;32mimport\u001b[0m \u001b[0mlogging\u001b[0m\u001b[0;34m\u001b[0m\u001b[0;34m\u001b[0m\u001b[0m\n\u001b[1;32m      3\u001b[0m \u001b[0mlogging\u001b[0m\u001b[0;34m.\u001b[0m\u001b[0msetLevel\u001b[0m\u001b[0;34m(\u001b[0m\u001b[0mlogging\u001b[0m\u001b[0;34m.\u001b[0m\u001b[0mERROR\u001b[0m\u001b[0;34m)\u001b[0m\u001b[0;34m\u001b[0m\u001b[0;34m\u001b[0m\u001b[0m\n",
            "\u001b[0;32m/usr/local/lib/python3.10/dist-packages/vista/__init__.py\u001b[0m in \u001b[0;36m<module>\u001b[0;34m\u001b[0m\n\u001b[1;32m      1\u001b[0m \u001b[0;34m\"\"\" Top-level package for VISTA. \"\"\"\u001b[0m\u001b[0;34m\u001b[0m\u001b[0;34m\u001b[0m\u001b[0m\n\u001b[1;32m      2\u001b[0m \u001b[0;34m\u001b[0m\u001b[0m\n\u001b[0;32m----> 3\u001b[0;31m \u001b[0;32mfrom\u001b[0m \u001b[0;34m.\u001b[0m\u001b[0mcore\u001b[0m \u001b[0;32mimport\u001b[0m \u001b[0;34m*\u001b[0m\u001b[0;34m\u001b[0m\u001b[0;34m\u001b[0m\u001b[0m\n\u001b[0m\u001b[1;32m      4\u001b[0m \u001b[0;32mfrom\u001b[0m \u001b[0;34m.\u001b[0m\u001b[0mentities\u001b[0m \u001b[0;32mimport\u001b[0m \u001b[0;34m*\u001b[0m\u001b[0;34m\u001b[0m\u001b[0;34m\u001b[0m\u001b[0m\n",
            "\u001b[0;32m/usr/local/lib/python3.10/dist-packages/vista/core/__init__.py\u001b[0m in \u001b[0;36m<module>\u001b[0;34m\u001b[0m\n\u001b[1;32m      1\u001b[0m \u001b[0;32mfrom\u001b[0m \u001b[0;34m.\u001b[0m\u001b[0mWorld\u001b[0m \u001b[0;32mimport\u001b[0m \u001b[0mWorld\u001b[0m\u001b[0;34m\u001b[0m\u001b[0;34m\u001b[0m\u001b[0m\n\u001b[1;32m      2\u001b[0m \u001b[0;32mfrom\u001b[0m \u001b[0;34m.\u001b[0m\u001b[0mTrace\u001b[0m \u001b[0;32mimport\u001b[0m \u001b[0mTrace\u001b[0m\u001b[0;34m\u001b[0m\u001b[0;34m\u001b[0m\u001b[0m\n\u001b[0;32m----> 3\u001b[0;31m \u001b[0;32mfrom\u001b[0m \u001b[0;34m.\u001b[0m\u001b[0mDisplay\u001b[0m \u001b[0;32mimport\u001b[0m \u001b[0mDisplay\u001b[0m\u001b[0;34m\u001b[0m\u001b[0;34m\u001b[0m\u001b[0m\n\u001b[0m",
            "\u001b[0;32m/usr/local/lib/python3.10/dist-packages/vista/core/Display.py\u001b[0m in \u001b[0;36m<module>\u001b[0;34m\u001b[0m\n\u001b[1;32m      8\u001b[0m \u001b[0;34m\u001b[0m\u001b[0m\n\u001b[1;32m      9\u001b[0m \u001b[0;32mfrom\u001b[0m \u001b[0mshapely\u001b[0m\u001b[0;34m.\u001b[0m\u001b[0mgeometry\u001b[0m \u001b[0;32mimport\u001b[0m \u001b[0mLineString\u001b[0m\u001b[0;34m\u001b[0m\u001b[0;34m\u001b[0m\u001b[0m\n\u001b[0;32m---> 10\u001b[0;31m \u001b[0;32mfrom\u001b[0m \u001b[0mdescartes\u001b[0m \u001b[0;32mimport\u001b[0m \u001b[0mPolygonPatch\u001b[0m\u001b[0;34m\u001b[0m\u001b[0;34m\u001b[0m\u001b[0m\n\u001b[0m\u001b[1;32m     11\u001b[0m \u001b[0;32mimport\u001b[0m \u001b[0mcv2\u001b[0m\u001b[0;34m\u001b[0m\u001b[0;34m\u001b[0m\u001b[0m\n\u001b[1;32m     12\u001b[0m \u001b[0;34m\u001b[0m\u001b[0m\n",
            "\u001b[0;31mModuleNotFoundError\u001b[0m: No module named 'descartes'",
            "",
            "\u001b[0;31m---------------------------------------------------------------------------\u001b[0;32m\nNOTE: If your import is failing due to a missing package, you can\nmanually install dependencies using either !pip or !apt.\n\nTo view examples of installing some common dependencies, click the\n\"Open Examples\" button below.\n\u001b[0;31m---------------------------------------------------------------------------\u001b[0m\n"
          ],
          "errorDetails": {
            "actions": [
              {
                "action": "open_url",
                "actionText": "Open Examples",
                "url": "/notebooks/snippets/importing_libraries.ipynb"
              }
            ]
          }
        }
      ]
    },
    {
      "cell_type": "markdown",
      "metadata": {
        "id": "70Vpby5VJ9Bp"
      },
      "source": [
        "VISTA provides some documentation which will be very helpful to completing this lab. You can always use the `?vista` command to access the package documentation."
      ]
    },
    {
      "cell_type": "code",
      "source": [
        "### Access documentation for VISTA\n",
        "### Run ?vista.<[name of module or function]>\n",
        "?vista.Display"
      ],
      "metadata": {
        "id": "-RTw0OK4nTYi"
      },
      "execution_count": null,
      "outputs": []
    },
    {
      "cell_type": "markdown",
      "source": [
        "## 3.6 Create an environment in VISTA\n",
        "\n",
        "Environments in VISTA are based on and built from human-collected driving *traces*. A trace is the data from a single driving run. In this case we'll be working with RGB camera data, from the viewpoint of the driver looking out at the road: the camera collects this data as the car drives around!\n",
        "\n",
        "We will start by accessing a trace. We use that trace to instantiate an environment within VISTA. This is our `World` and defines the environment we will use for reinforcement learning. The trace itself helps to define a space for the environment; with VISTA, we can use the trace to generate new photorealistic viewpoints anywhere within that space. This provides valuable new training data as well as a robust testing environment.\n",
        "\n",
        "The simulated environment of VISTA will serve as our training ground and testbed for reinforcement learning. We also define an `Agent` -- a car -- that will actually move around in the environmnet, and make and carry out *actions* in this world. Because this is an entirely simulated environment, our car agent will also be simulated!\n",
        "\n"
      ],
      "metadata": {
        "id": "XauFMMZjnYxn"
      }
    },
    {
      "cell_type": "code",
      "execution_count": null,
      "metadata": {
        "scrolled": true,
        "id": "JrTpTBJsJ9Bp"
      },
      "outputs": [],
      "source": [
        "# Download and extract the data for vista (auto-skip if already downloaded)\n",
        "!wget -nc -q --show-progress https://www.dropbox.com/s/62pao4mipyzk3xu/vista_traces.zip\n",
        "print(\"Unzipping data...\")\n",
        "!unzip -o -q vista_traces.zip\n",
        "print(\"Done downloading and unzipping data!\")\n",
        "\n",
        "trace_root = \"./vista_traces\"\n",
        "trace_path = [\n",
        "    \"20210726-154641_lexus_devens_center\",\n",
        "    \"20210726-155941_lexus_devens_center_reverse\",\n",
        "    \"20210726-184624_lexus_devens_center\",\n",
        "    \"20210726-184956_lexus_devens_center_reverse\",\n",
        "]\n",
        "trace_path = [os.path.join(trace_root, p) for p in trace_path]\n",
        "\n",
        "# Create a virtual world with VISTA, the world is defined by a series of data traces\n",
        "world = vista.World(trace_path, trace_config={'road_width': 4})\n",
        "\n",
        "# Create a car in our virtual world. The car will be able to step and take different\n",
        "#   control actions. As the car moves, its sensors will simulate any changes it environment\n",
        "car = world.spawn_agent(\n",
        "    config={\n",
        "        'length': 5.,\n",
        "        'width': 2.,\n",
        "        'wheel_base': 2.78,\n",
        "        'steering_ratio': 14.7,\n",
        "        'lookahead_road': True\n",
        "    })\n",
        "\n",
        "# Create a camera on the car for synthesizing the sensor data that we can use to train with!\n",
        "camera = car.spawn_camera(config={'size': (200, 320)})\n",
        "\n",
        "# Define a rendering display so we can visualize the simulated car camera stream and also\n",
        "#   get see its physical location with respect to the road in its environment.\n",
        "display = vista.Display(world, display_config={\"gui_scale\": 2, \"vis_full_frame\": False})\n",
        "\n",
        "# Define a simple helper function that allows us to reset VISTA and the rendering display\n",
        "def vista_reset():\n",
        "    world.reset()\n",
        "    display.reset()\n",
        "vista_reset()"
      ]
    },
    {
      "cell_type": "markdown",
      "source": [
        "If successful, you should see a blank black screen at this point. Your rendering display has  been initialized."
      ],
      "metadata": {
        "id": "aa3sA9FKndIx"
      }
    },
    {
      "cell_type": "markdown",
      "source": [
        "## 3.7 Our virtual agent: the car\n",
        "\n",
        "Our goal is to learn a control policy for our agent, our (hopefully) autonomous vehicle, end-to-end directly from RGB camera sensory input. As in Cartpole, we need to define how our virtual agent will interact with its environment.\n",
        "\n",
        "### Define agent's action functions\n",
        "In the case of driving, the car agent can act -- taking a step in the VISTA environment -- according to a given control command. This amounts to moving with a desired speed and a desired *curvature*, which reflects the car's turn radius. Curvature has units $\\frac{1}{meter}$. So, if a car is traversing a circle of radius $r$ meters, then it is turning with a curvature $\\frac{1}{r}$. The curvature is therefore correlated with the car's steering wheel angle, which actually controls its turn radius. Let's define the car agent's step function to capture the action of moving with a desired speed and desired curvature."
      ],
      "metadata": {
        "id": "rNzwTTwzngQH"
      }
    },
    {
      "cell_type": "code",
      "execution_count": null,
      "metadata": {
        "id": "ZjFecj3WJ9Bp"
      },
      "outputs": [],
      "source": [
        "# First we define a step function, to allow our virtual agent to step\n",
        "# with a given control command through the environment\n",
        "# agent can act with a desired curvature (turning radius, like steering angle)\n",
        "# and desired speed. if either is not provided then this step function will\n",
        "# use whatever the human executed at that time in the real data.\n",
        "\n",
        "def vista_step(curvature=None, speed=None):\n",
        "    # Arguments:\n",
        "    #   curvature: curvature to step with\n",
        "    #   speed: speed to step with\n",
        "    if curvature is None:\n",
        "        curvature = car.trace.f_curvature(car.timestamp)\n",
        "    if speed is None:\n",
        "        speed = car.trace.f_speed(car.timestamp)\n",
        "\n",
        "    car.step_dynamics(action=np.array([curvature, speed]), dt=1/15.)\n",
        "    car.step_sensors()"
      ]
    },
    {
      "cell_type": "markdown",
      "metadata": {
        "id": "aRmV3GtkJ9Bp"
      },
      "source": [
        "### Inspect driving trajectories in VISTA\n",
        "\n",
        "Recall that our VISTA environment is based off an initial human-collected driving trace. Also, we defined the agent's step function to defer to what the human executed if it is not provided with a desired speed and curvature with which to move.\n",
        "\n",
        "Thus, we can further inspect our environment by using the step function for the driving agent to move through the environment by following the human path. The stepping and iteration will take about 1 iteration per second. We will then observe the data that comes out to see the agent's traversal of the environment."
      ]
    },
    {
      "cell_type": "code",
      "execution_count": null,
      "metadata": {
        "id": "rp8G7eirJ9Bp"
      },
      "outputs": [],
      "source": [
        "import shutil, os, subprocess, cv2\n",
        "\n",
        "# Create a simple helper class that will assist us in storing videos of the render\n",
        "class VideoStream():\n",
        "    def __init__(self):\n",
        "        self.tmp = \"./tmp\"\n",
        "        if os.path.exists(self.tmp) and os.path.isdir(self.tmp):\n",
        "            shutil.rmtree(self.tmp)\n",
        "        os.mkdir(self.tmp)\n",
        "    def write(self, image, index):\n",
        "        cv2.imwrite(os.path.join(self.tmp, f\"{index:04}.png\"), image)\n",
        "    def save(self, fname):\n",
        "        cmd = f\"/usr/bin/ffmpeg -f image2 -i {self.tmp}/%04d.png -crf 0 -y {fname}\"\n",
        "        subprocess.call(cmd, shell=True)\n"
      ]
    },
    {
      "cell_type": "code",
      "execution_count": null,
      "metadata": {
        "scrolled": true,
        "id": "MlC5t0dyJ9Bq"
      },
      "outputs": [],
      "source": [
        "## Render and inspect a human trace ##\n",
        "\n",
        "vista_reset()\n",
        "stream = VideoStream()\n",
        "\n",
        "for i in tqdm(range(100)):\n",
        "    vista_step()\n",
        "\n",
        "    # Render and save the display\n",
        "    vis_img = display.render()\n",
        "    stream.write(vis_img[:, :, ::-1], index=i)\n",
        "    if car.done:\n",
        "        break\n",
        "\n",
        "print(\"Saving trajectory of human following...\")\n",
        "stream.save(\"human_follow.mp4\")\n",
        "mdl.lab3.play_video(\"human_follow.mp4\")"
      ]
    },
    {
      "cell_type": "markdown",
      "source": [
        "Check out the simulated VISTA environment. What do you notice about the environment, the agent, and the setup of the simulation engine? How could these aspects useful for training models?"
      ],
      "metadata": {
        "id": "SCeRDuqV-bye"
      }
    },
    {
      "cell_type": "markdown",
      "metadata": {
        "id": "CvJCRINbJ9Bq"
      },
      "source": [
        "### Define terminal states: crashing! (oh no)\n",
        "\n",
        "Recall from Cartpole, our training episodes ended when the pole toppled, i.e., the agent crashed and failed. Similarly for training vehicle control policies in VISTA, we have to define what a ***crash*** means. We will define a crash as any time the car moves out of its lane or exceeds its maximum rotation. This will define the end of a training episode."
      ]
    },
    {
      "cell_type": "code",
      "execution_count": null,
      "metadata": {
        "id": "2_6U_VAFJ9Bq"
      },
      "outputs": [],
      "source": [
        "## Define terminal states and crashing conditions ##\n",
        "\n",
        "def check_out_of_lane(car):\n",
        "    distance_from_center = np.abs(car.relative_state.x)\n",
        "    road_width = car.trace.road_width\n",
        "    half_road_width = road_width / 2\n",
        "    return distance_from_center > half_road_width\n",
        "\n",
        "def check_exceed_max_rot(car):\n",
        "    maximal_rotation = np.pi / 10.\n",
        "    current_rotation = np.abs(car.relative_state.yaw)\n",
        "    return current_rotation > maximal_rotation\n",
        "\n",
        "def check_crash(car):\n",
        "    return check_out_of_lane(car) or check_exceed_max_rot(car) or car.done"
      ]
    },
    {
      "cell_type": "markdown",
      "metadata": {
        "id": "YFXUZ8ppJ9Bq"
      },
      "source": [
        "### Quick check: acting with a random control policy\n",
        "\n",
        "At this point, we have (1) an environment; (2) an agent, with a step function. Before we start learning a control policy for our vehicle agent, we start by testing out the behavior of the agent in the virtual world by providing it with a completely random control policy. Naturally we expect that the behavior will not be very robust! Let's take a look."
      ]
    },
    {
      "cell_type": "code",
      "execution_count": null,
      "metadata": {
        "id": "ZIyI5MqwJ9Bq"
      },
      "outputs": [],
      "source": [
        "## Behavior with random control policy ##\n",
        "\n",
        "i = 0\n",
        "num_crashes = 5\n",
        "stream = VideoStream()\n",
        "\n",
        "for _ in range(num_crashes):\n",
        "    vista_reset()\n",
        "\n",
        "    while not check_crash(car):\n",
        "\n",
        "        # Sample a random curvature (between +/- 1/3), keep speed constant\n",
        "        curvature = np.random.uniform(-1/3, 1/3)\n",
        "\n",
        "        # Step the simulated car with the same action\n",
        "        vista_step(curvature=curvature)\n",
        "\n",
        "        # Render and save the display\n",
        "        vis_img = display.render()\n",
        "        stream.write(vis_img[:, :, ::-1], index=i)\n",
        "        i += 1\n",
        "\n",
        "    print(f\"Car crashed on step {i}\")\n",
        "    for _ in range(5):\n",
        "        stream.write(vis_img[:, :, ::-1], index=i)\n",
        "        i += 1\n",
        "\n",
        "print(\"Saving trajectory with random policy...\")\n",
        "stream.save(\"random_policy.mp4\")\n",
        "mdl.lab3.play_video(\"random_policy.mp4\")"
      ]
    },
    {
      "cell_type": "markdown",
      "metadata": {
        "id": "OL02qW5vJ9Br"
      },
      "source": [
        "## 3.8 Preparing to learn a control policy: data preprocessing\n",
        "\n",
        "So, hopefully you saw that the random control policy was, indeed, not very robust. Yikes. Our overall goal in this lab is to build a self-driving agent using a neural network controller trained entirely in the simulator VISTA. This means that the data used to train and test the self-driving agent will be supplied by VISTA. As a step towards this, we will do some data preprocessing to make it easier for the network to learn from these visual data.\n",
        "\n",
        "Previously we rendered the data with a display as a quick check that the environment was working properly. For training the agent, we will directly access the car's observations, extract Regions Of Interest (ROI) from those observations, crop them out, and use these crops as training data for our self-driving agent controller. Observe both the full observation and the extracted ROI."
      ]
    },
    {
      "cell_type": "code",
      "execution_count": null,
      "metadata": {
        "id": "4UxX6mk5J9Br"
      },
      "outputs": [],
      "source": [
        "from google.colab.patches import cv2_imshow\n",
        "\n",
        "# Directly access the raw sensor observations of the simulated car\n",
        "vista_reset()\n",
        "full_obs = car.observations[camera.name]\n",
        "cv2_imshow(full_obs)"
      ]
    },
    {
      "cell_type": "code",
      "source": [
        "## ROIs ##\n",
        "\n",
        "# Crop a smaller region of interest (ROI). This is necessary because:\n",
        "#   1. The full observation will have distortions on the edge as the car deviates from the human\n",
        "#   2. A smaller image of the environment will be easier for our model to learn from\n",
        "region_of_interest = camera.camera_param.get_roi()\n",
        "i1, j1, i2, j2 = region_of_interest\n",
        "cropped_obs = full_obs[i1:i2, j1:j2]\n",
        "cv2_imshow(cropped_obs)"
      ],
      "metadata": {
        "id": "KAH-5uxrbkng"
      },
      "execution_count": null,
      "outputs": []
    },
    {
      "cell_type": "markdown",
      "metadata": {
        "id": "znxypklaJ9Br"
      },
      "source": [
        "We will group these steps into some helper functions that we can use during training:\n",
        "1. `preprocess`: takes a full observation as input and returns a preprocessed version. This can include whatever preprocessing steps you would like! For example, ROI extraction, cropping, augmentations, and so on. You are welcome to add and modify this function as you seek to optimize your self-driving agent!\n",
        "2. `grab_and_preprocess`: grab the car's current observation (i.e., image view from its perspective), and then call the `preprocess` function on that observation."
      ]
    },
    {
      "cell_type": "code",
      "execution_count": null,
      "metadata": {
        "id": "7GQY_UwSJ9Br"
      },
      "outputs": [],
      "source": [
        "## Data preprocessing functions ##\n",
        "\n",
        "def preprocess(full_obs):\n",
        "    # Extract ROI\n",
        "    i1, j1, i2, j2 = camera.camera_param.get_roi()\n",
        "    obs = full_obs[i1:i2, j1:j2]\n",
        "\n",
        "    # Rescale to [0, 1]\n",
        "    obs = obs / 255.\n",
        "    return obs\n",
        "\n",
        "def grab_and_preprocess_obs(car):\n",
        "    full_obs = car.observations[camera.name]\n",
        "    obs = preprocess(full_obs)\n",
        "    return obs"
      ]
    },
    {
      "cell_type": "markdown",
      "metadata": {
        "id": "WAueY4PfJ9Br"
      },
      "source": [
        "## 3.9 Define the self-driving agent and learning algorithm\n",
        "\n",
        "As before, we'll use a neural network to define our agent and output actions that it will take. Fixing the agent's driving speed, we will train this network to predict a curvature -- a continuous value -- that will relate to the car's turn radius. Specifically, define the model to output a prediction of a continuous distribution of curvature, defined by a mean $\\mu$ and standard deviation $\\sigma$. These parameters will define a Normal distribution over curvature.\n",
        "\n",
        "What network architecture do you think would be especially well suited to the task of end-to-end control learning from RGB images? Since our observations are in the form of RGB images, we'll start with a convolutional network. Note that you will be tasked with completing a template CNN architecture for the self-driving car agent -- but you should certainly experiment beyond this template to try to optimize performance!"
      ]
    },
    {
      "cell_type": "code",
      "execution_count": null,
      "metadata": {
        "id": "f-pAQA7zJ9Br"
      },
      "outputs": [],
      "source": [
        "### Define the self-driving agent ###\n",
        "# Note: we start with a template CNN architecture -- experiment away as you\n",
        "#   try to optimize your agent!\n",
        "\n",
        "# Functionally define layers for convenience\n",
        "# All convolutional layers will have ReLu activation\n",
        "act = tf.keras.activations.swish\n",
        "Conv2D = functools.partial(tf.keras.layers.Conv2D, padding='valid', activation=act)\n",
        "Flatten = tf.keras.layers.Flatten\n",
        "Dense = tf.keras.layers.Dense\n",
        "\n",
        "# Defines a CNN for the self-driving agent\n",
        "def create_driving_model():\n",
        "    model = tf.keras.models.Sequential([\n",
        "        # Convolutional layers\n",
        "        # First, 32 5x5 filters and 2x2 stride\n",
        "        Conv2D(filters=32, kernel_size=5, strides=2),\n",
        "\n",
        "        # TODO: define convolutional layers with 48 5x5 filters and 2x2 stride\n",
        "        # Conv2D('''TODO'''),\n",
        "\n",
        "        # TODO: define two convolutional layers with 64 3x3 filters and 2x2 stride\n",
        "        # Conv2D('''TODO'''),\n",
        "\n",
        "        Flatten(),\n",
        "\n",
        "        # Fully connected layer and output\n",
        "        Dense(units=128, activation=act),\n",
        "\n",
        "        # TODO: define the output dimension of the last Dense layer.\n",
        "        #    Pay attention to the space the agent needs to act in.\n",
        "        #    Remember that this model is outputing a distribution of *continuous*\n",
        "        #    actions, which take a different shape than discrete actions.\n",
        "        #    How many outputs should there be to define a distribution?'''\n",
        "\n",
        "        # Dense('''TODO''')\n",
        "\n",
        "    ])\n",
        "    return model\n",
        "\n",
        "driving_model = create_driving_model()"
      ]
    },
    {
      "cell_type": "markdown",
      "metadata": {
        "id": "hlyL0HL1J9Bs"
      },
      "source": [
        "Now we will define the learing algorithm which will be used to reinforce good behaviors of the agent and discourage bad behaviours. As with Cartpole, we will use a *policy gradient* method that aims to **maximize** the likelihood of actions that result in large rewards. However, there are some key differences. In Cartpole, the agent's action space was discrete: it could only move left or right. In driving, the agent's action space is continuous: the control network is outputting a curvature, which is a continuous variable. We will define a probability distribution, defined by a mean and variance, over this continuous action space to define the possible actions the self-driving agent can take.\n",
        "\n",
        "You will define three functions that reflect these changes and form the core of the the learning algorithm:\n",
        "1. `run_driving_model`: takes an input image, and outputs a prediction of a continuous distribution of curvature. This will take the form of a Normal distribuion and will be defined using TensorFlow probability's [`tfp.distributions.Normal`](https://www.tensorflow.org/probability/api_docs/python/tfp/distributions/Normal) function, so the model's prediction will include both a mean and variance. Operates on an instance `driving_model` defined above.\n",
        "2. `compute_driving_loss`: computes the loss for a prediction that is in the form of a continuous Normal distribution. Recall as in Cartpole, computing the loss involves multiplying the predicted log probabilities by the discounted rewards. Similar to `compute_loss` in Cartpole.\n",
        "\n",
        "The `train_step` function to use the loss function to execute a training step will be the same as we used in Cartpole! This will have to be executed abov in order for the driving agent to train properly."
      ]
    },
    {
      "cell_type": "code",
      "execution_count": null,
      "metadata": {
        "id": "-UWhFhToJ9Bs"
      },
      "outputs": [],
      "source": [
        "## The self-driving learning algorithm ##\n",
        "\n",
        "# hyperparameters\n",
        "max_curvature = 1/8.\n",
        "max_std = 0.1\n",
        "\n",
        "def run_driving_model(image):\n",
        "    # Arguments:\n",
        "    #   image: an input image\n",
        "    # Returns:\n",
        "    #   pred_dist: predicted distribution of control actions\n",
        "    single_image_input = tf.rank(image) == 3  # missing 4th batch dimension\n",
        "    if single_image_input:\n",
        "        image = tf.expand_dims(image, axis=0)\n",
        "\n",
        "    '''TODO: get the prediction of the model given the current observation.'''\n",
        "    # distribution = ''' TODO '''\n",
        "\n",
        "    mu, logsigma = tf.split(distribution, 2, axis=1)\n",
        "    mu = max_curvature * tf.tanh(mu) # conversion\n",
        "    sigma = max_std * tf.sigmoid(logsigma) + 0.005 # conversion\n",
        "\n",
        "    '''TODO: define the predicted distribution of curvature, given the predicted\n",
        "    mean mu and standard deviation sigma. Use a Normal distribution as defined\n",
        "    in TF probability (hint: tfp.distributions)'''\n",
        "    # pred_dist = ''' TODO '''\n",
        "\n",
        "    return pred_dist\n",
        "\n",
        "\n",
        "def compute_driving_loss(dist, actions, rewards):\n",
        "    # Arguments:\n",
        "    #   logits: network's predictions for actions to take\n",
        "    #   actions: the actions the agent took in an episode\n",
        "    #   rewards: the rewards the agent received in an episode\n",
        "    # Returns:\n",
        "    #   loss\n",
        "    '''TODO: complete the function call to compute the negative log probabilities\n",
        "    of the agent's actions.'''\n",
        "    # neg_logprob = '''TODO'''\n",
        "\n",
        "    '''TODO: scale the negative log probability by the rewards.'''\n",
        "    # loss = tf.reduce_mean('''TODO''')\n",
        "    return loss\n"
      ]
    },
    {
      "cell_type": "markdown",
      "metadata": {
        "id": "fCCMKLaIJ9Bs"
      },
      "source": [
        "## 3.10 Train the self-driving agent\n",
        "\n",
        "We're now all set up to start training our RL algorithm and agent for autonomous driving!\n",
        "\n",
        "We begin be initializing an opitimizer, environment, a new driving agent, and `Memory` buffer. This will be in the first code block. To restart training completely, you will need to re-run this cell to re-initiailize everything.\n",
        "\n",
        "The second code block is the main training script. Here reinforcement learning episodes will be executed by agents in the VISTA environment. Since the self-driving agent starts out with literally zero knowledge of its environment, it can often take a long time to train and achieve stable behavior -- keep this in mind! For convenience, stopping and restarting the second cell will pick up training where you left off.\n",
        "\n",
        "The training block will execute a policy in the environment until the agent crashes. When the agent crashes, the (state, action, reward) triplet `(s,a,r)` of the agent at the end of the episode will be saved into the `Memory` buffer, and then provided as input to the policy gradient loss function. This information will be used to execute optimization within the training step. Memory will be cleared, and we will then do it all over again!\n",
        "\n",
        "Let's run the code block to train our self-driving agent. We will again visualize the evolution of the total reward as a function of training to get a sense of how the agent is learning. **You should reach a reward of at least 100 to get bare minimum stable behavior.**"
      ]
    },
    {
      "cell_type": "code",
      "source": [
        "## Training parameters and initialization ##\n",
        "## Re-run this cell to restart training from scratch ##\n",
        "\n",
        "''' TODO: Learning rate and optimizer '''\n",
        "# learning_rate = '''TODO'''\n",
        "# optimizer = '''TODO'''\n",
        "\n",
        "# instantiate driving agent\n",
        "vista_reset()\n",
        "driving_model = create_driving_model()\n",
        "# NOTE: the variable driving_model will be used in run_driving_model execution\n",
        "\n",
        "# to track our progress\n",
        "smoothed_reward = mdl.util.LossHistory(smoothing_factor=0.9)\n",
        "plotter = mdl.util.PeriodicPlotter(sec=2, xlabel='Iterations', ylabel='Rewards')\n",
        "\n",
        "# instantiate Memory buffer\n",
        "memory = Memory()"
      ],
      "metadata": {
        "id": "uZGn94sJCtBb"
      },
      "execution_count": null,
      "outputs": []
    },
    {
      "cell_type": "code",
      "execution_count": null,
      "metadata": {
        "scrolled": true,
        "id": "G8GhVvZQJ9Bs"
      },
      "outputs": [],
      "source": [
        "## Driving training! Main training block. ##\n",
        "## Note: stopping and restarting this cell will pick up training where you\n",
        "#        left off. To restart training you need to rerun the cell above as\n",
        "#        well (to re-initialize the model and optimizer)\n",
        "\n",
        "max_batch_size = 300\n",
        "max_reward = float('-inf') # keep track of the maximum reward acheived during training\n",
        "if hasattr(tqdm, '_instances'): tqdm._instances.clear() # clear if it exists\n",
        "for i_episode in range(500):\n",
        "\n",
        "    plotter.plot(smoothed_reward.get())\n",
        "    # Restart the environment\n",
        "    vista_reset()\n",
        "    memory.clear()\n",
        "    observation = grab_and_preprocess_obs(car)\n",
        "\n",
        "    while True:\n",
        "        # TODO: using the car's current observation compute the desired\n",
        "        #  action (curvature) distribution by feeding it into our\n",
        "        #  driving model (use the function you already built to do this!) '''\n",
        "        # curvature_dist = '''TODO'''\n",
        "\n",
        "        # TODO: sample from the action *distribution* to decide how to step\n",
        "        #   the car in the environment. You may want to check the documentation\n",
        "        #   for tfp.distributions.Normal online. Remember that the sampled action\n",
        "        #   should be a single scalar value after this step.\n",
        "        # curvature_action = '''TODO'''\n",
        "\n",
        "        # Step the simulated car with the same action\n",
        "        vista_step(curvature_action)\n",
        "        observation = grab_and_preprocess_obs(car)\n",
        "\n",
        "        # TODO: Compute the reward for this iteration. You define\n",
        "        #   the reward function for this policy, start with something\n",
        "        #   simple - for example, give a reward of 1 if the car did not\n",
        "        #   crash and a reward of 0 if it did crash.\n",
        "        #  reward = '''TODO'''\n",
        "\n",
        "        # add to memory\n",
        "        memory.add_to_memory(observation, curvature_action, reward)\n",
        "\n",
        "        # is the episode over? did you crash or do so well that you're done?\n",
        "        if reward == 0.0:\n",
        "            # determine total reward and keep a record of this\n",
        "            total_reward = sum(memory.rewards)\n",
        "            smoothed_reward.append(total_reward)\n",
        "\n",
        "            # execute training step - remember we don't know anything about how the\n",
        "            #   agent is doing until it has crashed! if the training step is too large\n",
        "            #   we need to sample a mini-batch for this step.\n",
        "            batch_size = min(len(memory), max_batch_size)\n",
        "            i = np.random.choice(len(memory), batch_size, replace=False)\n",
        "            train_step(driving_model, compute_driving_loss, optimizer,\n",
        "                               observations=np.array(memory.observations)[i],\n",
        "                               actions=np.array(memory.actions)[i],\n",
        "                               discounted_rewards = discount_rewards(memory.rewards)[i],\n",
        "                               custom_fwd_fn=run_driving_model)\n",
        "            # reset the memory\n",
        "            memory.clear()\n",
        "            break"
      ]
    },
    {
      "cell_type": "markdown",
      "metadata": {
        "id": "yevBnJCFJ9Bt"
      },
      "source": [
        "## 3.11 Evaluate the self-driving agent\n",
        "\n",
        "Finally we can put our trained self-driving agent to the test! It will execute autonomous control, in VISTA, based on the learned controller. We will evaluate how well it does based on this distance the car travels without crashing. We await the result..."
      ]
    },
    {
      "cell_type": "code",
      "execution_count": null,
      "metadata": {
        "scrolled": true,
        "id": "DzeswkSnJ9Bt"
      },
      "outputs": [],
      "source": [
        "## Evaluation block!##\n",
        "\n",
        "i_step = 0\n",
        "num_episodes = 5\n",
        "num_reset = 5\n",
        "stream = VideoStream()\n",
        "for i_episode in range(num_episodes):\n",
        "\n",
        "    # Restart the environment\n",
        "    vista_reset()\n",
        "    observation = grab_and_preprocess_obs(car)\n",
        "\n",
        "    print(\"rolling out in env\")\n",
        "    episode_step = 0\n",
        "    while not check_crash(car) and episode_step < 100:\n",
        "        # using our observation, choose an action and take it in the environment\n",
        "        curvature_dist = run_driving_model(observation)\n",
        "        curvature = curvature_dist.mean()[0,0]\n",
        "\n",
        "        # Step the simulated car with the same action\n",
        "        vista_step(curvature)\n",
        "        observation = grab_and_preprocess_obs(car)\n",
        "\n",
        "        vis_img = display.render()\n",
        "        stream.write(vis_img[:, :, ::-1], index=i_step)\n",
        "        i_step += 1\n",
        "        episode_step += 1\n",
        "\n",
        "    for _ in range(num_reset):\n",
        "        stream.write(np.zeros_like(vis_img), index=i_step)\n",
        "        i_step += 1\n",
        "\n",
        "print(f\"Average reward: {(i_step - (num_reset*num_episodes)) / num_episodes}\")\n",
        "\n",
        "print(\"Saving trajectory with trained policy...\")\n",
        "stream.save(\"trained_policy.mp4\")\n",
        "mdl.lab3.play_video(\"trained_policy.mp4\")"
      ]
    },
    {
      "cell_type": "markdown",
      "source": [
        "Congratulations for making it to this point and for training an autonomous vehicle control policy using deep neural networks and reinforcement learning! Now, with an eye towards the lab competition, think about what you can change -- about the controller model, your data, your learning algorithm... -- to improve performance even further. Below in 3.11 we have some suggestions to get you started. We hope to see your self-driving control policy put to the ***real*** test!"
      ],
      "metadata": {
        "id": "Dq6TZoYvoPyy"
      }
    },
    {
      "cell_type": "markdown",
      "source": [
        "## 3.11 Conclusion and submission information\n",
        "\n",
        "That's it! Congratulations on training two RL agents and putting them to the test! We encourage you to consider the following:\n",
        "\n",
        "* How does each agent perform?\n",
        "* How does the complexity of the self-driving car agent compare to CartPole, and how does it alter the rate at which the agent learns and its performance?\n",
        "* What are some things you could change about the agent or the learning process to potentially improve performance?\n",
        "\n",
        "Try to optimize your **self-driving car** model and algorithm to achieve improved performance.  **MIT students and affiliates will be eligible for prizes during the IAP offering. The prize for this lab includes an opportunity to test your model and algorithm onboard a full-scale autonomous vehicle in the real world.**\n",
        "\n",
        "To get you started, here are some suggested ways to improve your self-driving car model and/or RL algorithm:\n",
        "\n",
        "* different model architectures, for example recurrent models or Transformers with self-attention;\n",
        "* data augmentation and improved pre-processing;\n",
        "* different data modalities from different sensor types. VISTA also supports [LiDAR](https://driving.ca/car-culture/auto-tech/what-is-lidar-and-how-is-it-used-in-cars) and [event-based camera](https://arxiv.org/pdf/1804.01310.pdf) data, with a [new VISTA paper](https://arxiv.org/pdf/2111.12083.pdf) describing this. If you are interested in this, please contact Alexander Amini (amini@mit.edu)!\n",
        "* improved reinforcement learning algorithms, such as [PPO](https://paperswithcode.com/paper/proximal-policy-optimization-algorithms), [TRPO](https://paperswithcode.com/method/trpo), or [A3C](https://paperswithcode.com/method/a3c);\n",
        "* different reward functions for reinforcemnt learning, for example penalizing the car's distance to the lane center rather than just whether or not it crashed;\n",
        "* [Guided Policy Learning (GPL)](https://rll.berkeley.edu/gps/). Not reinforcement learning, but a powerful algorithm to leverage human data to provide additional supervision the learning task.\n",
        "\n",
        "To enter the competition, MIT students and affiliates should upload the following to the course Canvas:\n",
        "\n",
        "* Jupyter notebook with the code you used to generate your results, **with the self-driving car agent training fully executed**;\n",
        "* **saved video of your self-driving agent executing a trajectory in VISTA**;\n",
        "* printout / recording of the **maximum distance traveled by your agent** before crashing;\n",
        "* **text description and/or visual diagram** of the architecture, settings, algorithm, hyperparameters, etc you used to generate your result -- if there are any additional or interesting modifications you made to the template code, please include these in your description;\n",
        "* finally, **separate `.py` script** containing the code for your model, as well as **a function call to load your model and the final trained weights**. This will mean you will have to access and load the weights of your trained model in this script;\n",
        "\n",
        "We will evaluate your entries based on the above components, as well as potential real-time evaluation of top candidates in new VISTA environments with snow / winter traces. The link for these traces is [here](https://www.dropbox.com/s/3wxyvjfquloonqc/vista_traces_snow.zip). You are welcome to download this data and evaluate your models on it as well.\n",
        "\n",
        "Good luck!\n",
        "\n",
        "<p align=\"center\">\n",
        "<img src=\"https://media.giphy.com/media/H7rpSYHRyYgamxQNqw/giphy-downsized-large.gif\" width=\"700\"/>\n",
        "</p>"
      ],
      "metadata": {
        "id": "6c6uO21GoRfw"
      }
    },
    {
      "cell_type": "code",
      "source": [],
      "metadata": {
        "id": "ac8FNK-x8gNn"
      },
      "execution_count": null,
      "outputs": []
    }
  ],
  "metadata": {
    "accelerator": "GPU",
    "colab": {
      "collapsed_sections": [
        "WoXYKhfZMHiw",
        "UT7YL8KBJIIc",
        "Eu6Mqxc720ST"
      ],
      "name": "RL.ipynb",
      "provenance": [],
      "gpuType": "T4",
      "include_colab_link": true
    },
    "kernelspec": {
      "display_name": "Python 3",
      "name": "python3"
    },
    "language_info": {
      "codemirror_mode": {
        "name": "ipython",
        "version": 3
      },
      "file_extension": ".py",
      "mimetype": "text/x-python",
      "name": "python",
      "nbconvert_exporter": "python",
      "pygments_lexer": "ipython3",
      "version": "3.9.7"
    }
  },
  "nbformat": 4,
  "nbformat_minor": 0
}